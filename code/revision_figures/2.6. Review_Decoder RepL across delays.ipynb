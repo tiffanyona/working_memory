{
 "cells": [
  {
   "cell_type": "markdown",
   "metadata": {
    "tags": []
   },
   "source": [
    "___\n",
    "## Delay specific decoder\n",
    "___"
   ]
  },
  {
   "cell_type": "code",
   "execution_count": null,
   "metadata": {},
   "outputs": [],
   "source": [
    "path_to_data = r'C:\\Users\\tiffany.ona\\Documents\\Ephys\\summary_complete'\n",
    "save_data = r'C:\\Users\\tiffany.ona\\Documents\\working_memory\\data\\1_5_Review_Decoder across delays trained on 3s or 10s delays'\n",
    "save_figures = r'G:\\My Drive\\WORKING_MEMORY\\PAPER\\2ND_SUBMISSION_NAT_NEURO\\figures_for_resubmission'"
   ]
  },
  {
   "cell_type": "code",
   "execution_count": 1,
   "metadata": {
    "jupyter": {
     "source_hidden": true
    },
    "tags": []
   },
   "outputs": [],
   "source": [
    "# IPython magig  tools\n",
    "%load_ext autoreload\n",
    "%autoreload 2\n",
    "\n",
    "from sklearn.model_selection import StratifiedKFold\n",
    "import matplotlib.pyplot as plt\n",
    "from sklearn.utils import shuffle\n",
    "import numpy as np\n",
    "from sklearn.linear_model import LogisticRegression\n",
    "from sklearn.metrics import f1_score\n",
    "from sklearn.preprocessing import StandardScaler, RobustScaler\n",
    "\n",
    "import os \n",
    "import pandas as pd\n",
    "import seaborn as sns\n",
    "sns.set_context('talk')\n",
    "\n",
    "import sys\n",
    "sys.path.append(\"G:/My Drive/WORKING_MEMORY/EXPERIMENTS/ELECTROPHYSIOLOGY/ANALYSIS/src/functions/\")\n",
    "import ephys_functions as ephys\n",
    "\n",
    "import warnings\n",
    "warnings.simplefilter(action='ignore', category=FutureWarning)\n",
    "warnings.simplefilter(action='ignore', category=RuntimeWarning)\n",
    "warnings. filterwarnings('ignore', category=UserWarning)\n",
    "warnings.simplefilter(action=\"ignore\", category=pd.errors.PerformanceWarning)\n",
    "pd.options.mode.chained_assignment = None  # default='warn'"
   ]
  },
  {
   "cell_type": "markdown",
   "metadata": {},
   "source": [
    "\n",
    "**Functions**"
   ]
  },
  {
   "cell_type": "code",
   "execution_count": 2,
   "metadata": {
    "jupyter": {
     "source_hidden": true
    },
    "tags": []
   },
   "outputs": [],
   "source": [
    "def interval_extraction_trial(df, cluster_list=[], variable = 'vector_answer', align = 'Delay_OFF', start = 0, stop = 1, delay_only=False):\n",
    "    y = []\n",
    "    d = {}\n",
    "    \n",
    "    if delay_only == False:\n",
    "        # print('Skipping delays')\n",
    "        if align == 'Delay_OFF' and start < 0:\n",
    "            df = df.loc[(df.delay != 0.1) & (df.delay != 0.2)]\n",
    "        if align == 'Delay_OFF' and start < -1:\n",
    "            df = df.loc[(df.delay != 0.1) & (df.delay != 0.2) & (df.delay != 1)]\n",
    "\n",
    "        if align == 'Stimulus_ON' and stop > 0.5:\n",
    "            df = df.loc[(df.delay != 0.1) & (df.delay != 0.2)]\n",
    "\n",
    "        if align == 'Stimulus_ON' and stop > 1.5:\n",
    "            df = df.loc[(df.delay != 0.1) & (df.delay != 0.2) & (df.delay != 1)]\n",
    "    \n",
    "    # print('Recovered from: ', str(len(df.trial.unique())), ' trials')\n",
    "    # Create new aligment to the end of the session\n",
    "    df['a_'+align] = df.fixed_times-df[align]\n",
    "\n",
    "    # cluster_list = df_all.cluster_id.unique()\n",
    "    df = df.sort_values('trial')\n",
    "    \n",
    "    y = df.groupby('trial')[variable].mean()\n",
    "\n",
    "    # Filter for the spikes that occur in the interval we are analyzing\n",
    "    df = df.loc[(df['a_'+align]>start)&(df['a_'+align]<stop)]\n",
    "\n",
    "    df_final = pd.DataFrame()\n",
    "    df_final = df.groupby(['trial','cluster_id']).count()\n",
    "    df_final.reset_index(inplace=True)\n",
    "    df_final = df_final.pivot_table(index=['trial'], columns='cluster_id', values='fixed_times', fill_value=0).rename_axis(None, axis=1)\n",
    "    df_final = df_final.reindex(cluster_list, axis=1,fill_value=0)\n",
    "\n",
    "    result = pd.merge(df_final, y, how=\"right\", on=[\"trial\"]).fillna(0)\n",
    "    result = result.rename(columns={variable: \"y\"})\n",
    "    result['y'] = np.where(result['y'] == 0, -1, result['y']) \n",
    "    \n",
    "    return result, result['y']"
   ]
  },
  {
   "cell_type": "code",
   "execution_count": 3,
   "metadata": {
    "jupyter": {
     "source_hidden": true
    },
    "tags": []
   },
   "outputs": [],
   "source": [
    "def train(df, decode='vector_answer', align='Delay_OFF', start=-0.5, stop=0, cluster_list = [], ratio=0.65, test_index=[],  train_index=[], fakey=[], delay_only=False):\n",
    "\n",
    "    df_final, y = interval_extraction_trial(df,variable = decode, align = 'Stimulus_ON', start = -0.25, stop = 0, cluster_list = cluster_list, delay_only=delay_only)\n",
    "    \n",
    "    sc = RobustScaler()\n",
    "    x = df_final.iloc[:, df_final.columns != 'y']\n",
    "    sc_fit = sc.fit(x)\n",
    "    \n",
    "    df_final, y = interval_extraction_trial(df,variable = decode, align = align, start = start, stop = stop, cluster_list = cluster_list, delay_only=delay_only)\n",
    "    \n",
    "    # This is mainly for the session shuffles\n",
    "    if len(fakey) > 1:\n",
    "        print('Using shuffled session')\n",
    "        y = fakey[len(fakey)-len(y):]\n",
    "        df_final['y'] = y   \n",
    "        \n",
    "    train_cols = df_final.columns\n",
    "    \n",
    "    #Train the model   \n",
    "    df_final.reset_index(inplace=True)\n",
    "    df_final = df_final.drop(columns ='trial')\n",
    "    \n",
    "    if len(test_index) >= 1:\n",
    "        print('Using splits')\n",
    "        train = df_final.loc[train_index,:]\n",
    "        test = df_final.loc[test_index,:]\n",
    "        # print('Fold',str(fold_no),'Class Ratio:',sum(test['y'])/len(test['y']))\n",
    "        x_test = test.iloc[:, test.columns != 'y']\n",
    "        y_test = test['y']\n",
    "        x_train = train.iloc[:, train.columns != 'y']\n",
    "        y_train = train['y']\n",
    "        \n",
    "    else:\n",
    "        x_train = df_final.iloc[:, df_final.columns != 'y']\n",
    "        y_train = df_final['y']\n",
    "        x_test = x_train\n",
    "        y_test = y_train\n",
    "        \n",
    "    #Normalize the X data\n",
    "    # sc = RobustScaler()\n",
    "    # sc_fit = sc.fit(df_final.iloc[:, df_final.columns != 'y'])\n",
    "    \n",
    "    # x_train = sc.fit_transform(x_train)\n",
    "    # x_test = sc.fit_transform(x_test)\n",
    "    \n",
    "    x_train = sc_fit.transform(x_train)\n",
    "    x_test = sc_fit.transform(x_test)\n",
    "\n",
    "    model = LogisticRegression(solver='liblinear', class_weight='balanced', penalty = 'l1').fit(x_train, y_train)\n",
    "    # model = LogisticRegression(solver='liblinear', penalty = 'l1', C=0.95).fit(x_train, y_train)\n",
    "    train_cols = df_final.columns\n",
    "    \n",
    "    p_pred = model.predict_proba(x_test)    \n",
    "    y_pred = model.predict(x_test)    \n",
    "    f1score= f1_score(y_test, y_pred, average='weighted')\n",
    "\n",
    "    y_test = np.where(y_test == -1, 0, y_test) \n",
    "    y_new = y_test.reshape(len(y_test), 1).astype(int)\n",
    "    score_ =  np.take_along_axis(p_pred,y_new,axis=1)   \n",
    "\n",
    "    # print('Trained model on ', len(train_cols), ' neurons.')\n",
    "    print('score:', np.mean(score_), 'f1_score ', f1score)\n",
    "    \n",
    "    return model, train_cols, np.mean(score_), sc_fit"
   ]
  },
  {
   "cell_type": "code",
   "execution_count": 4,
   "metadata": {
    "jupyter": {
     "source_hidden": true
    },
    "tags": []
   },
   "outputs": [],
   "source": [
    "def test(df,sc_fit, epoch='Stimulus_ON',initrange=-0.4,endrange=1.5,r=0.2, model = None, train_cols=None, variable='ra_accuracy',\n",
    "                      hit=1, nsurrogates = 100, decode='vector_answer', ratio=0, cluster_list = [], test_index=[], fakey=[], delay_only=False):\n",
    "    '''\n",
    "    Function that tests a previously trained function (func. train_decoder) on population activity of specific segments\n",
    "    \n",
    "    Attributes\n",
    "        - df: DataFrame. it contains a whole ephys session without curation. \n",
    "        - WM and RL are the variables to consider a trial in the RL or in the WM-module. Both need to be floats. \n",
    "        - epoch: str. Moment at which the data will be aligned to. \n",
    "        - initrange: float. \n",
    "        - endrange: float.\n",
    "        - r: float \n",
    "        - model. function. \n",
    "        - train_cols\n",
    "        - name. String\n",
    "        - variables. List. \n",
    "        - hits. List. \n",
    "        - colors. List\n",
    "        - nsurrogates. Int. \n",
    "        - indexes. List \n",
    "        - decode. String\n",
    "    \n",
    "    Return\n",
    "        - df_real\n",
    "        - df_iter\n",
    "        It will also make a plot. \n",
    "    '''\n",
    "    \n",
    "    df_real = pd.DataFrame()\n",
    "    df_iter = pd.DataFrame(columns=['iteration', 'score', 'times', 'epoch', 'variable'])\n",
    "        \n",
    "    times = [] # Timestamps\n",
    "    real_score = [] # real scoring of the decoded\n",
    "    mean_sur=[] # mean of the surrogate data\n",
    "\n",
    "    for start, stop in zip(np.arange(initrange,endrange-r,r/2),np.arange(initrange+r,endrange,r/2)):\n",
    "        times.append((start+stop)/2)\n",
    "        df_final, y = interval_extraction_trial(df,variable = decode, align = epoch, start = start, stop = stop, cluster_list=cluster_list, delay_only=delay_only)\n",
    "\n",
    "        # Sometimes the testing and the trainind dataset have different neurons since they are looking at different trials and perhaps there were no spikes\n",
    "        # coming from all neurons. We compare which columns are missing and add them containing 0 for the model to work. \n",
    "        test_cols = df_final.columns\n",
    "        common_cols = train_cols.intersection(test_cols)\n",
    "        train_not_test = train_cols.difference(test_cols)\n",
    "        for col in train_not_test:\n",
    "            df_final[col] = 0\n",
    "\n",
    "        #The other way round. When training in segmented data, sometimes the training set is smaller than the testing (for instance, when training in Hb trials and testing in WM)\n",
    "        test_not_train = test_cols.difference(train_cols)\n",
    "        for col in test_not_train:\n",
    "            df_final.drop(columns=[col],inplace=True)\n",
    "\n",
    "        #Train the model\"\n",
    "        if len(test_index) >= 1:\n",
    "            print('Train splitting trials')\n",
    "            # Split data in training and testing\n",
    "            # x_train, x_test, y_train, y_test =\\\n",
    "            #     train_test_split(df_final, y, test_size=test_sample,random_state=random_state)\n",
    "            \n",
    "            df_final.reset_index(inplace=True)\n",
    "            df_final = df_final.drop(columns ='trial')\n",
    "            test = df_final.loc[test_index,:]\n",
    "            # print('Fold',str(fold_no),'Class Ratio:',sum(test['y'])/len(test['y']))\n",
    "            x_test = test.iloc[:, test.columns != 'y']\n",
    "            y_test = test['y']             \n",
    "\n",
    "        else:\n",
    "            x_train = df_final.iloc[:, df_final.columns != 'y']\n",
    "            y_train = df_final['y']\n",
    "            x_test = x_train\n",
    "            y_test = y_train\n",
    "        \n",
    "        #Normalize the X data\n",
    "        # sc = RobustScaler()\n",
    "        # x_test = sc.fit_transform(x_test)\n",
    "        # x_test = sc_fit.transform(x_test)\n",
    "        \n",
    "        p_pred = model.predict_proba(x_test)\n",
    "        y_pred = model.predict(x_test)\n",
    "        score_ = model.score(x_test, y_test)\n",
    "        real_score.append(score_)\n",
    "\n",
    "        # y_test = np.where(y_test == -1, 0, y_test) \n",
    "        # y_new = y_test.reshape(len(y_test), 1).astype(int)\n",
    "        # corrected_score =  np.take_along_axis(p_pred,y_new,axis=1)   \n",
    "        # real_score.append(np.mean(corrected_score))\n",
    "\n",
    "        # print('score:', score_, 'corrected score: ', np.mean(corrected_score), end='\\n\\n')\n",
    "\n",
    "        i=0\n",
    "        rows = []\n",
    "        while i <= nsurrogates:\n",
    "            i+=1\n",
    "            y_perr = shuffle(y_test)\n",
    "            score_ = model.score(x_test, y_perr)\n",
    "\n",
    "            # y_new = y_perr.reshape(len(y_perr), 1).astype(int)\n",
    "            # result =  np.take_along_axis(p_pred,y_new,axis=1)     \n",
    "            # score_  = np.mean(result)\n",
    "\n",
    "            new_row = pd.DataFrame({'iteration': [i], 'score': [score_], 'times': [(start+stop)/2], 'epoch' : [epoch], \n",
    "                                      'variable' : [variable+'_'+str(hit)]})\n",
    "            df_iter = pd.concat([df_iter,new_row], ignore_index=True)\n",
    "        \n",
    "    times.append('trial_type')\n",
    "    real_score.append(variable+'_'+str(hit))\n",
    "    a_series = pd.DataFrame([real_score], columns = times)\n",
    "\n",
    "    df_real = pd.concat([df_real,a_series], ignore_index=True)\n",
    "    \n",
    "    return df_real, df_iter"
   ]
  },
  {
   "cell_type": "code",
   "execution_count": 5,
   "metadata": {},
   "outputs": [
    {
     "ename": "NameError",
     "evalue": "name 'path_to_data' is not defined",
     "output_type": "error",
     "traceback": [
      "\u001b[1;31m---------------------------------------------------------------------------\u001b[0m",
      "\u001b[1;31mNameError\u001b[0m                                 Traceback (most recent call last)",
      "Cell \u001b[1;32mIn[5], line 7\u001b[0m\n\u001b[0;32m      4\u001b[0m \u001b[38;5;28;01mfrom\u001b[39;00m\u001b[38;5;250m \u001b[39m\u001b[38;5;21;01msklearn\u001b[39;00m\u001b[38;5;21;01m.\u001b[39;00m\u001b[38;5;21;01mpreprocessing\u001b[39;00m\u001b[38;5;250m \u001b[39m\u001b[38;5;28;01mimport\u001b[39;00m StandardScaler\n\u001b[0;32m      5\u001b[0m \u001b[38;5;28;01mfrom\u001b[39;00m\u001b[38;5;250m \u001b[39m\u001b[38;5;21;01msklearn\u001b[39;00m\u001b[38;5;21;01m.\u001b[39;00m\u001b[38;5;21;01mpipeline\u001b[39;00m\u001b[38;5;250m \u001b[39m\u001b[38;5;28;01mimport\u001b[39;00m Pipeline\n\u001b[1;32m----> 7\u001b[0m os\u001b[38;5;241m.\u001b[39mchdir(\u001b[43mpath_to_data\u001b[49m)\n\u001b[0;32m      8\u001b[0m \u001b[38;5;28;01mfor\u001b[39;00m filename \u001b[38;5;129;01min\u001b[39;00m os\u001b[38;5;241m.\u001b[39mlistdir(os\u001b[38;5;241m.\u001b[39mgetcwd()):\n\u001b[0;32m      9\u001b[0m \u001b[38;5;66;03m# for filename in list_of_sessions:\u001b[39;00m\n\u001b[0;32m     10\u001b[0m     \u001b[38;5;66;03m# \u001b[39;00m\n\u001b[0;32m     11\u001b[0m     \u001b[38;5;28;01mif\u001b[39;00m filename[\u001b[38;5;241m-\u001b[39m\u001b[38;5;241m3\u001b[39m:] \u001b[38;5;241m!=\u001b[39m \u001b[38;5;124m'\u001b[39m\u001b[38;5;124mpdf\u001b[39m\u001b[38;5;124m'\u001b[39m:\n",
      "\u001b[1;31mNameError\u001b[0m: name 'path_to_data' is not defined"
     ]
    }
   ],
   "source": [
    "import pandas as pd\n",
    "from sklearn.model_selection import train_test_split, GridSearchCV\n",
    "from sklearn.pipeline import Pipeline\n",
    "\n",
    "os.chdir(path_to_data)\n",
    "for filename in os.listdir(os.getcwd()):\n",
    "# for filename in list_of_sessions:\n",
    "    # \n",
    "    if filename[-3:] != 'pdf':\n",
    "        df = pd.read_csv(filename, sep=',',index_col=0)\n",
    "    else:\n",
    "        continue\n",
    "        \n",
    "    print(filename, '/ Total session trials: ', len(df.trial.unique()), '/ Number of neurons: ', len(df.cluster_id.unique()))\n",
    "    \n",
    "    df = ephys.add_time_before_stimulus(df, 4)\n",
    "\n",
    "    substract = True\n",
    "    df['delay'] = np.around(df.delay,2)\n",
    "    # Variables used for decoder training\n",
    "    decode = 'vector_answer'\n",
    "    align='Delay_OFF'\n",
    "    ratio = 0.6\n",
    "    delay_train = 'all'\n",
    "    start = -0.5\n",
    "    stop = 0\n",
    "    type_trial ='WM_roll'\n",
    "    hit = 1\n",
    "    nsplits = 5\n",
    "    \n",
    "    cluster_list = df.cluster_id.unique()\n",
    "\n",
    "    skf = StratifiedKFold(n_splits=nsplits, shuffle=True)\n",
    "    # skf = KFold(n_splits=nsplits, shuffle=True)\n",
    "\n",
    "    # Create a dataframe for training data\n",
    "    if type_trial == 'all':\n",
    "        df_train = df.loc[(df.hit==hit)]\n",
    "    elif hit == 'all':\n",
    "        df_train = df.loc[(df[type_trial]>=ratio)]\n",
    "    else:\n",
    "        df_train = df.loc[(df[type_trial]>=ratio)&(df.hit==hit)]\n",
    "\n",
    "    if delay_train != 'all':\n",
    "        df_train = df_train.loc[(df_train.delay==delay_train)]\n",
    "    else:\n",
    "        df_train = df_train.loc[(df_train.delay!=0.2)&(df_train.delay!=0.1)]\n",
    "        \n",
    "    df_final, y = interval_extraction_trial(df_train, variable = decode, align = align, start = start, stop = stop, cluster_list=cluster_list)\n",
    "    df_final.reset_index(inplace=True)\n",
    "    df_final = df_final.drop(columns ='trial')\n",
    "    df_final = df_final.drop(columns ='y')\n",
    "\n",
    "    # Assuming df is your DataFrame with neural spike data\n",
    "    # Replace 'features' and 'target' with the actual column names\n",
    "    X = df_final  # Features (neural spike data)\n",
    "    y = y  # Target variable\n",
    "\n",
    "    # Split dataset into training and testing sets\n",
    "    X_train, X_test, y_train, y_test = train_test_split(X, y, test_size=0.2, random_state=42)\n",
    "\n",
    "    # Define a pipeline for scaling and logistic regression\n",
    "    pipeline = Pipeline([\n",
    "        ('scaler', StandardScaler()),  # Standardize features\n",
    "        ('logreg', LogisticRegression(max_iter=500))  # Logistic Regression\n",
    "    ])\n",
    "\n",
    "    # Define the parameter grid\n",
    "    param_grid = {\n",
    "        'logreg__solver': ['liblinear', 'saga'],  # Solvers to test\n",
    "        'logreg__penalty': ['l1', 'l2'],          # Regularization types\n",
    "        'logreg__C': [0.01, 0.1, 1, 10, 100]     # Regularization strength\n",
    "    }\n",
    "\n",
    "    # Set up GridSearchCV\n",
    "    grid_search = GridSearchCV(pipeline, param_grid, cv=5, scoring='accuracy', verbose=1, n_jobs=-1)\n",
    "\n",
    "    # Fit the grid search to the training data\n",
    "    grid_search.fit(X_train, y_train)\n",
    "\n",
    "    # Print the best parameters and corresponding score\n",
    "    print(\"Best Parameters:\", grid_search.best_params_)\n",
    "    print(\"Best Cross-Validated Accuracy:\", grid_search.best_score_)\n",
    "\n",
    "    # Evaluate the model on the test set\n",
    "    best_model = grid_search.best_estimator_\n",
    "    test_score = best_model.score(X_test, y_test)\n",
    "    print(\"Test Set Accuracy:\", test_score)\n"
   ]
  },
  {
   "cell_type": "markdown",
   "metadata": {
    "tags": []
   },
   "source": [
    "_________________________________________\n",
    "#### **Train in one delay and test in other delays**"
   ]
  },
  {
   "cell_type": "code",
   "execution_count": null,
   "metadata": {
    "scrolled": true,
    "tags": []
   },
   "outputs": [
    {
     "name": "stdout",
     "output_type": "stream",
     "text": [
      "E04_2021-03-30_11-20-16.csv / Total session trials:  191 / Number of neurons:  11\n",
      "Using splits\n",
      "score: 0.7681217668818022 f1_score  0.793939393939394\n",
      "3.0 WM_roll Threshold: 0.6 Hit: 1 Nº of trials: 43\n",
      "10.0 WM_roll Threshold: 0.6 Hit: 1 Nº of trials: 26\n",
      "3.0 RL_roll Threshold: 0.4 Hit: 1 Nº of trials: 1\n",
      "Not enough trials with this condition\n",
      "10.0 RL_roll Threshold: 0.4 Hit: 1 Nº of trials: 1\n",
      "Not enough trials with this condition\n"
     ]
    },
    {
     "data": {
      "text/plain": [
       "<Figure size 640x480 with 0 Axes>"
      ]
     },
     "metadata": {},
     "output_type": "display_data"
    },
    {
     "name": "stdout",
     "output_type": "stream",
     "text": [
      "Using splits\n",
      "score: 0.6552788564196513 f1_score  0.6343434343434342\n",
      "Not enough trials with this condition\n",
      "Not enough trials with this condition\n"
     ]
    },
    {
     "data": {
      "text/plain": [
       "<Figure size 640x480 with 0 Axes>"
      ]
     },
     "metadata": {},
     "output_type": "display_data"
    },
    {
     "name": "stdout",
     "output_type": "stream",
     "text": [
      "Using splits\n",
      "score: 0.7429853630658666 f1_score  0.8785650623885918\n",
      "Not enough trials with this condition\n",
      "Not enough trials with this condition\n"
     ]
    },
    {
     "data": {
      "text/plain": [
       "<Figure size 640x480 with 0 Axes>"
      ]
     },
     "metadata": {},
     "output_type": "display_data"
    },
    {
     "name": "stdout",
     "output_type": "stream",
     "text": [
      "E04_2021-04-03_16-12-15.csv / Total session trials:  290 / Number of neurons:  35\n",
      "Using splits\n",
      "score: 0.6514788935347869 f1_score  0.7221217224959974\n",
      "3.0 WM_roll Threshold: 0.6 Hit: 1 Nº of trials: 40\n",
      "10.0 WM_roll Threshold: 0.6 Hit: 1 Nº of trials: 51\n",
      "3.0 RL_roll Threshold: 0.4 Hit: 1 Nº of trials: 9\n",
      "10.0 RL_roll Threshold: 0.4 Hit: 1 Nº of trials: 4\n",
      "Not enough trials with this condition\n"
     ]
    },
    {
     "data": {
      "text/plain": [
       "<Figure size 640x480 with 0 Axes>"
      ]
     },
     "metadata": {},
     "output_type": "display_data"
    },
    {
     "name": "stdout",
     "output_type": "stream",
     "text": [
      "Using splits\n",
      "score: 0.7026786556898036 f1_score  0.7539961013645223\n",
      "Not enough trials with this condition\n"
     ]
    },
    {
     "data": {
      "text/plain": [
       "<Figure size 640x480 with 0 Axes>"
      ]
     },
     "metadata": {},
     "output_type": "display_data"
    },
    {
     "name": "stdout",
     "output_type": "stream",
     "text": [
      "Using splits\n",
      "score: 0.64133265981456 f1_score  0.6241847041847041\n",
      "Not enough trials with this condition\n"
     ]
    },
    {
     "data": {
      "text/plain": [
       "<Figure size 640x480 with 0 Axes>"
      ]
     },
     "metadata": {},
     "output_type": "display_data"
    },
    {
     "name": "stdout",
     "output_type": "stream",
     "text": [
      "E11_2021-05-12_12-56-16.csv / Total session trials:  151 / Number of neurons:  69\n",
      "Skip session because no 10s delay\n",
      "E11_2021-05-13_12-34-49.csv / Total session trials:  302 / Number of neurons:  40\n",
      "Skip session because no 10s delay\n",
      "E11_2021-05-14_14-27-21.csv / Total session trials:  88 / Number of neurons:  38\n",
      "Skip session because no 10s delay\n",
      "E11_2021-05-24_14-33-29.csv / Total session trials:  253 / Number of neurons:  7\n",
      "Using splits\n",
      "score: 0.533233269345762 f1_score  0.7048611111111112\n",
      "3.0 WM_roll Threshold: 0.6 Hit: 1 Nº of trials: 32\n",
      "10.0 WM_roll Threshold: 0.6 Hit: 1 Nº of trials: 23\n",
      "3.0 RL_roll Threshold: 0.4 Hit: 1 Nº of trials: 7\n",
      "10.0 RL_roll Threshold: 0.4 Hit: 1 Nº of trials: 5\n"
     ]
    },
    {
     "data": {
      "text/plain": [
       "<Figure size 640x480 with 0 Axes>"
      ]
     },
     "metadata": {},
     "output_type": "display_data"
    },
    {
     "name": "stdout",
     "output_type": "stream",
     "text": [
      "Using splits\n",
      "score: 0.5247285593158894 f1_score  0.6363636363636364\n"
     ]
    },
    {
     "data": {
      "text/plain": [
       "<Figure size 640x480 with 0 Axes>"
      ]
     },
     "metadata": {},
     "output_type": "display_data"
    },
    {
     "name": "stdout",
     "output_type": "stream",
     "text": [
      "Using splits\n",
      "score: 0.5310898094658263 f1_score  0.5987178400971505\n"
     ]
    },
    {
     "data": {
      "text/plain": [
       "<Figure size 640x480 with 0 Axes>"
      ]
     },
     "metadata": {},
     "output_type": "display_data"
    },
    {
     "name": "stdout",
     "output_type": "stream",
     "text": [
      "E11_2021-05-26_12-20-58.csv / Total session trials:  247 / Number of neurons:  7\n",
      "Using splits\n",
      "score: 0.680967927735006 f1_score  0.7090844821491693\n",
      "3.0 WM_roll Threshold: 0.6 Hit: 1 Nº of trials: 52\n",
      "10.0 WM_roll Threshold: 0.6 Hit: 1 Nº of trials: 10\n",
      "Not enough trials with this condition\n",
      "3.0 RL_roll Threshold: 0.4 Hit: 1 Nº of trials: 1\n",
      "Not enough trials with this condition\n",
      "10.0 RL_roll Threshold: 0.4 Hit: 1 Nº of trials: 1\n",
      "Not enough trials with this condition\n"
     ]
    },
    {
     "data": {
      "text/plain": [
       "<Figure size 640x480 with 0 Axes>"
      ]
     },
     "metadata": {},
     "output_type": "display_data"
    },
    {
     "name": "stdout",
     "output_type": "stream",
     "text": [
      "Using splits\n",
      "score: 0.6534200345004398 f1_score  0.7276190476190476\n",
      "Not enough trials with this condition\n",
      "Not enough trials with this condition\n",
      "Not enough trials with this condition\n"
     ]
    },
    {
     "data": {
      "text/plain": [
       "<Figure size 640x480 with 0 Axes>"
      ]
     },
     "metadata": {},
     "output_type": "display_data"
    },
    {
     "name": "stdout",
     "output_type": "stream",
     "text": [
      "Using splits\n",
      "score: 0.6687482961253947 f1_score  0.735042735042735\n",
      "Not enough trials with this condition\n",
      "Not enough trials with this condition\n"
     ]
    },
    {
     "data": {
      "text/plain": [
       "<Figure size 640x480 with 0 Axes>"
      ]
     },
     "metadata": {},
     "output_type": "display_data"
    },
    {
     "name": "stderr",
     "output_type": "stream",
     "text": [
      "C:\\Users\\tiffany.ona\\AppData\\Local\\Temp\\ipykernel_23864\\2804974521.py:8: DtypeWarning: Columns (32) have mixed types. Specify dtype option on import or set low_memory=False.\n",
      "  df = pd.read_csv(filename, sep=',',index_col=0)\n"
     ]
    },
    {
     "name": "stdout",
     "output_type": "stream",
     "text": [
      "E11_2021-05-27_12-15-58.csv / Total session trials:  164 / Number of neurons:  9\n",
      "Using splits\n",
      "score: 0.4648790916344069 f1_score  0.4539170506912442\n",
      "3.0 WM_roll Threshold: 0.6 Hit: 1 Nº of trials: 36\n",
      "10.0 WM_roll Threshold: 0.6 Hit: 1 Nº of trials: 21\n",
      "3.0 RL_roll Threshold: 0.4 Hit: 1 Nº of trials: 4\n",
      "Not enough trials with this condition\n",
      "10.0 RL_roll Threshold: 0.4 Hit: 1 Nº of trials: 6\n"
     ]
    },
    {
     "data": {
      "text/plain": [
       "<Figure size 640x480 with 0 Axes>"
      ]
     },
     "metadata": {},
     "output_type": "display_data"
    },
    {
     "name": "stdout",
     "output_type": "stream",
     "text": [
      "Using splits\n",
      "score: 0.4638341125329423 f1_score  0.3333333333333333\n",
      "Not enough trials with this condition\n"
     ]
    },
    {
     "data": {
      "text/plain": [
       "<Figure size 640x480 with 0 Axes>"
      ]
     },
     "metadata": {},
     "output_type": "display_data"
    },
    {
     "name": "stdout",
     "output_type": "stream",
     "text": [
      "Using splits\n",
      "score: 0.5113985844995428 f1_score  0.42886083839800526\n",
      "Not enough trials with this condition\n"
     ]
    },
    {
     "data": {
      "text/plain": [
       "<Figure size 640x480 with 0 Axes>"
      ]
     },
     "metadata": {},
     "output_type": "display_data"
    },
    {
     "name": "stderr",
     "output_type": "stream",
     "text": [
      "C:\\Users\\tiffany.ona\\AppData\\Local\\Temp\\ipykernel_23864\\2804974521.py:8: DtypeWarning: Columns (33) have mixed types. Specify dtype option on import or set low_memory=False.\n",
      "  df = pd.read_csv(filename, sep=',',index_col=0)\n"
     ]
    },
    {
     "name": "stdout",
     "output_type": "stream",
     "text": [
      "E13_2021-05-25_16-26-57.csv / Total session trials:  271 / Number of neurons:  38\n",
      "Using splits\n",
      "score: 0.6474533259192506 f1_score  0.6410256410256411\n",
      "3.0 WM_roll Threshold: 0.6 Hit: 1 Nº of trials: 59\n",
      "10.0 WM_roll Threshold: 0.6 Hit: 1 Nº of trials: 9\n",
      "Not enough trials with this condition\n",
      "3.0 RL_roll Threshold: 0.4 Hit: 1 Nº of trials: 10\n",
      "10.0 RL_roll Threshold: 0.4 Hit: 1 Nº of trials: 5\n"
     ]
    },
    {
     "data": {
      "text/plain": [
       "<Figure size 640x480 with 0 Axes>"
      ]
     },
     "metadata": {},
     "output_type": "display_data"
    },
    {
     "name": "stdout",
     "output_type": "stream",
     "text": [
      "Using splits\n",
      "score: 0.6662857867710793 f1_score  0.7432523616734142\n",
      "Not enough trials with this condition\n"
     ]
    },
    {
     "data": {
      "text/plain": [
       "<Figure size 640x480 with 0 Axes>"
      ]
     },
     "metadata": {},
     "output_type": "display_data"
    },
    {
     "name": "stdout",
     "output_type": "stream",
     "text": [
      "Using splits\n",
      "score: 0.6330643525255112 f1_score  0.6158916890624209\n",
      "Not enough trials with this condition\n"
     ]
    },
    {
     "data": {
      "text/plain": [
       "<Figure size 640x480 with 0 Axes>"
      ]
     },
     "metadata": {},
     "output_type": "display_data"
    },
    {
     "name": "stdout",
     "output_type": "stream",
     "text": [
      "E13_2021-05-26_15-01-42.csv / Total session trials:  340 / Number of neurons:  38\n",
      "Using splits\n",
      "score: 0.5960054647819627 f1_score  0.6342508555274513\n",
      "3.0 WM_roll Threshold: 0.6 Hit: 1 Nº of trials: 37\n",
      "10.0 WM_roll Threshold: 0.6 Hit: 1 Nº of trials: 47\n",
      "3.0 RL_roll Threshold: 0.4 Hit: 1 Nº of trials: 9\n",
      "10.0 RL_roll Threshold: 0.4 Hit: 1 Nº of trials: 14\n"
     ]
    },
    {
     "data": {
      "text/plain": [
       "<Figure size 640x480 with 0 Axes>"
      ]
     },
     "metadata": {},
     "output_type": "display_data"
    },
    {
     "name": "stdout",
     "output_type": "stream",
     "text": [
      "Using splits\n",
      "score: 0.5807936872152395 f1_score  0.5834663324553759\n"
     ]
    },
    {
     "data": {
      "text/plain": [
       "<Figure size 640x480 with 0 Axes>"
      ]
     },
     "metadata": {},
     "output_type": "display_data"
    },
    {
     "name": "stdout",
     "output_type": "stream",
     "text": [
      "Using splits\n",
      "score: 0.6335584006070626 f1_score  0.6521739130434783\n"
     ]
    },
    {
     "data": {
      "text/plain": [
       "<Figure size 640x480 with 0 Axes>"
      ]
     },
     "metadata": {},
     "output_type": "display_data"
    },
    {
     "name": "stdout",
     "output_type": "stream",
     "text": [
      "E13_2021-06-06_11-29-34.csv / Total session trials:  323 / Number of neurons:  42\n",
      "Using splits\n",
      "score: 0.5016543212084169 f1_score  0.48462367374005305\n",
      "3.0 WM_roll Threshold: 0.6 Hit: 1 Nº of trials: 64\n",
      "10.0 WM_roll Threshold: 0.6 Hit: 1 Nº of trials: 43\n",
      "3.0 RL_roll Threshold: 0.4 Hit: 1 Nº of trials: 4\n",
      "Not enough trials with this condition\n",
      "10.0 RL_roll Threshold: 0.4 Hit: 1 Nº of trials: 4\n",
      "Not enough trials with this condition\n"
     ]
    },
    {
     "data": {
      "text/plain": [
       "<Figure size 640x480 with 0 Axes>"
      ]
     },
     "metadata": {},
     "output_type": "display_data"
    },
    {
     "name": "stdout",
     "output_type": "stream",
     "text": [
      "Using splits\n",
      "score: 0.5359568259948063 f1_score  0.5645794124214489\n",
      "Not enough trials with this condition\n",
      "Not enough trials with this condition\n"
     ]
    },
    {
     "data": {
      "text/plain": [
       "<Figure size 640x480 with 0 Axes>"
      ]
     },
     "metadata": {},
     "output_type": "display_data"
    },
    {
     "name": "stdout",
     "output_type": "stream",
     "text": [
      "Using splits\n",
      "score: 0.5491983447586727 f1_score  0.6482051282051282\n",
      "Not enough trials with this condition\n",
      "Not enough trials with this condition\n"
     ]
    },
    {
     "data": {
      "text/plain": [
       "<Figure size 640x480 with 0 Axes>"
      ]
     },
     "metadata": {},
     "output_type": "display_data"
    },
    {
     "name": "stdout",
     "output_type": "stream",
     "text": [
      "E13_2021-06-08_11-22-23.csv / Total session trials:  272 / Number of neurons:  29\n",
      "Using splits\n",
      "score: 0.4642919989123726 f1_score  0.48939468909780637\n",
      "3.0 WM_roll Threshold: 0.6 Hit: 1 Nº of trials: 40\n",
      "10.0 WM_roll Threshold: 0.6 Hit: 1 Nº of trials: 40\n",
      "3.0 RL_roll Threshold: 0.4 Hit: 1 Nº of trials: 7\n",
      "10.0 RL_roll Threshold: 0.4 Hit: 1 Nº of trials: 4\n",
      "Not enough trials with this condition\n"
     ]
    },
    {
     "data": {
      "text/plain": [
       "<Figure size 640x480 with 0 Axes>"
      ]
     },
     "metadata": {},
     "output_type": "display_data"
    },
    {
     "name": "stdout",
     "output_type": "stream",
     "text": [
      "Using splits\n",
      "score: 0.5162418247133249 f1_score  0.5234703024012831\n",
      "Not enough trials with this condition\n"
     ]
    },
    {
     "data": {
      "text/plain": [
       "<Figure size 640x480 with 0 Axes>"
      ]
     },
     "metadata": {},
     "output_type": "display_data"
    },
    {
     "name": "stdout",
     "output_type": "stream",
     "text": [
      "Using splits\n",
      "score: 0.5112394520954672 f1_score  0.47145541263188323\n",
      "Not enough trials with this condition\n"
     ]
    },
    {
     "data": {
      "text/plain": [
       "<Figure size 640x480 with 0 Axes>"
      ]
     },
     "metadata": {},
     "output_type": "display_data"
    },
    {
     "name": "stdout",
     "output_type": "stream",
     "text": [
      "E13_2021-06-09_12-14-21.csv / Total session trials:  326 / Number of neurons:  54\n",
      "Using splits\n",
      "score: 0.5488112591620661 f1_score  0.6185751463890696\n",
      "3.0 WM_roll Threshold: 0.6 Hit: 1 Nº of trials: 55\n",
      "10.0 WM_roll Threshold: 0.6 Hit: 1 Nº of trials: 36\n",
      "3.0 RL_roll Threshold: 0.4 Hit: 1 Nº of trials: 13\n",
      "10.0 RL_roll Threshold: 0.4 Hit: 1 Nº of trials: 10\n"
     ]
    },
    {
     "data": {
      "text/plain": [
       "<Figure size 640x480 with 0 Axes>"
      ]
     },
     "metadata": {},
     "output_type": "display_data"
    },
    {
     "name": "stdout",
     "output_type": "stream",
     "text": [
      "Using splits\n",
      "score: 0.6136962706006936 f1_score  0.7105751391465678\n"
     ]
    },
    {
     "data": {
      "text/plain": [
       "<Figure size 640x480 with 0 Axes>"
      ]
     },
     "metadata": {},
     "output_type": "display_data"
    },
    {
     "name": "stdout",
     "output_type": "stream",
     "text": [
      "Using splits\n",
      "score: 0.5942817439156761 f1_score  0.6083916083916083\n"
     ]
    },
    {
     "data": {
      "text/plain": [
       "<Figure size 640x480 with 0 Axes>"
      ]
     },
     "metadata": {},
     "output_type": "display_data"
    },
    {
     "name": "stdout",
     "output_type": "stream",
     "text": [
      "E14_2021-03-29_13-01-12.csv / Total session trials:  229 / Number of neurons:  30\n",
      "Using splits\n",
      "score: 0.7891479869970778 f1_score  0.8614466677486919\n",
      "3.0 WM_roll Threshold: 0.6 Hit: 1 Nº of trials: 60\n",
      "10.0 WM_roll Threshold: 0.6 Hit: 1 Nº of trials: 43\n",
      "3.0 RL_roll Threshold: 0.4 Hit: 1 Nº of trials: 1\n",
      "Not enough trials with this condition\n",
      "10.0 RL_roll Threshold: 0.4 Hit: 1 Nº of trials: 3\n",
      "Not enough trials with this condition\n"
     ]
    },
    {
     "data": {
      "text/plain": [
       "<Figure size 640x480 with 0 Axes>"
      ]
     },
     "metadata": {},
     "output_type": "display_data"
    },
    {
     "name": "stdout",
     "output_type": "stream",
     "text": [
      "Using splits\n",
      "score: 0.7056272211397089 f1_score  0.7637924735111437\n",
      "Not enough trials with this condition\n",
      "Not enough trials with this condition\n"
     ]
    },
    {
     "data": {
      "text/plain": [
       "<Figure size 640x480 with 0 Axes>"
      ]
     },
     "metadata": {},
     "output_type": "display_data"
    },
    {
     "name": "stdout",
     "output_type": "stream",
     "text": [
      "Using splits\n",
      "score: 0.6994334371176218 f1_score  0.76\n",
      "Not enough trials with this condition\n",
      "Not enough trials with this condition\n"
     ]
    },
    {
     "data": {
      "text/plain": [
       "<Figure size 640x480 with 0 Axes>"
      ]
     },
     "metadata": {},
     "output_type": "display_data"
    },
    {
     "name": "stdout",
     "output_type": "stream",
     "text": [
      "E14_2021-03-31_13-07-18.csv / Total session trials:  304 / Number of neurons:  7\n",
      "Using splits\n",
      "score: 0.5328776021214834 f1_score  0.5281019252786034\n",
      "3.0 WM_roll Threshold: 0.6 Hit: 1 Nº of trials: 51\n",
      "10.0 WM_roll Threshold: 0.6 Hit: 1 Nº of trials: 45\n",
      "3.0 RL_roll Threshold: 0.4 Hit: 1 Nº of trials: 6\n",
      "10.0 RL_roll Threshold: 0.4 Hit: 1 Nº of trials: 3\n",
      "Not enough trials with this condition\n"
     ]
    },
    {
     "data": {
      "text/plain": [
       "<Figure size 640x480 with 0 Axes>"
      ]
     },
     "metadata": {},
     "output_type": "display_data"
    },
    {
     "name": "stdout",
     "output_type": "stream",
     "text": [
      "Using splits\n",
      "score: 0.5575302141476102 f1_score  0.6559934318555009\n",
      "Not enough trials with this condition\n"
     ]
    },
    {
     "data": {
      "text/plain": [
       "<Figure size 640x480 with 0 Axes>"
      ]
     },
     "metadata": {},
     "output_type": "display_data"
    },
    {
     "name": "stdout",
     "output_type": "stream",
     "text": [
      "Using splits\n",
      "score: 0.5486371997265299 f1_score  0.5967229151381755\n",
      "Not enough trials with this condition\n"
     ]
    },
    {
     "data": {
      "text/plain": [
       "<Figure size 640x480 with 0 Axes>"
      ]
     },
     "metadata": {},
     "output_type": "display_data"
    },
    {
     "name": "stdout",
     "output_type": "stream",
     "text": [
      "E14_2021-04-02_12-53-42.csv / Total session trials:  233 / Number of neurons:  39\n",
      "Using splits\n",
      "score: 0.881468381361035 f1_score  0.8837209302325582\n",
      "3.0 WM_roll Threshold: 0.6 Hit: 1 Nº of trials: 44\n",
      "10.0 WM_roll Threshold: 0.6 Hit: 1 Nº of trials: 29\n",
      "3.0 RL_roll Threshold: 0.4 Hit: 1 Nº of trials: 8\n",
      "10.0 RL_roll Threshold: 0.4 Hit: 1 Nº of trials: 3\n",
      "Not enough trials with this condition\n"
     ]
    },
    {
     "data": {
      "text/plain": [
       "<Figure size 640x480 with 0 Axes>"
      ]
     },
     "metadata": {},
     "output_type": "display_data"
    },
    {
     "name": "stdout",
     "output_type": "stream",
     "text": [
      "Using splits\n",
      "score: 0.8642798479702987 f1_score  0.8601630927212323\n",
      "Not enough trials with this condition\n"
     ]
    },
    {
     "data": {
      "text/plain": [
       "<Figure size 640x480 with 0 Axes>"
      ]
     },
     "metadata": {},
     "output_type": "display_data"
    },
    {
     "name": "stdout",
     "output_type": "stream",
     "text": [
      "Using splits\n",
      "score: 0.8540499700139021 f1_score  0.854453781512605\n",
      "Not enough trials with this condition\n"
     ]
    },
    {
     "data": {
      "text/plain": [
       "<Figure size 640x480 with 0 Axes>"
      ]
     },
     "metadata": {},
     "output_type": "display_data"
    },
    {
     "name": "stdout",
     "output_type": "stream",
     "text": [
      "E17_2022-01-29_16-16-15.csv / Total session trials:  309 / Number of neurons:  114\n",
      "Skip session because no 10s delay\n",
      "E17_2022-01-31_16-30-44.csv / Total session trials:  374 / Number of neurons:  35\n",
      "Using splits\n",
      "score: 0.8385464419904134 f1_score  0.8517154803192113\n",
      "3.0 WM_roll Threshold: 0.6 Hit: 1 Nº of trials: 66\n",
      "10.0 WM_roll Threshold: 0.6 Hit: 1 Nº of trials: 68\n",
      "3.0 RL_roll Threshold: 0.4 Hit: 1 Nº of trials: 8\n",
      "10.0 RL_roll Threshold: 0.4 Hit: 1 Nº of trials: 6\n"
     ]
    },
    {
     "data": {
      "text/plain": [
       "<Figure size 640x480 with 0 Axes>"
      ]
     },
     "metadata": {},
     "output_type": "display_data"
    },
    {
     "name": "stdout",
     "output_type": "stream",
     "text": [
      "Using splits\n",
      "score: 0.8129224937133785 f1_score  0.8923785000304131\n"
     ]
    },
    {
     "data": {
      "text/plain": [
       "<Figure size 640x480 with 0 Axes>"
      ]
     },
     "metadata": {},
     "output_type": "display_data"
    },
    {
     "name": "stdout",
     "output_type": "stream",
     "text": [
      "Using splits\n",
      "score: 0.8262256787310874 f1_score  0.8509872223834914\n"
     ]
    },
    {
     "data": {
      "text/plain": [
       "<Figure size 640x480 with 0 Axes>"
      ]
     },
     "metadata": {},
     "output_type": "display_data"
    },
    {
     "name": "stdout",
     "output_type": "stream",
     "text": [
      "E17_2022-02-01_17-02-16.csv / Total session trials:  393 / Number of neurons:  162\n",
      "Using splits\n",
      "score: 0.9003582911158476 f1_score  0.9436619718309859\n",
      "3.0 WM_roll Threshold: 0.6 Hit: 1 Nº of trials: 65\n",
      "10.0 WM_roll Threshold: 0.6 Hit: 1 Nº of trials: 61\n",
      "3.0 RL_roll Threshold: 0.4 Hit: 1 Nº of trials: 6\n",
      "10.0 RL_roll Threshold: 0.4 Hit: 1 Nº of trials: 11\n"
     ]
    },
    {
     "data": {
      "text/plain": [
       "<Figure size 640x480 with 0 Axes>"
      ]
     },
     "metadata": {},
     "output_type": "display_data"
    },
    {
     "name": "stdout",
     "output_type": "stream",
     "text": [
      "Using splits\n",
      "score: 0.8581852828322439 f1_score  0.8847619047619049\n"
     ]
    },
    {
     "data": {
      "text/plain": [
       "<Figure size 640x480 with 0 Axes>"
      ]
     },
     "metadata": {},
     "output_type": "display_data"
    },
    {
     "name": "stdout",
     "output_type": "stream",
     "text": [
      "Using splits\n",
      "score: 0.8467764157329213 f1_score  0.8705407586763518\n"
     ]
    },
    {
     "data": {
      "text/plain": [
       "<Figure size 640x480 with 0 Axes>"
      ]
     },
     "metadata": {},
     "output_type": "display_data"
    },
    {
     "name": "stdout",
     "output_type": "stream",
     "text": [
      "E17_2022-02-02_17-13-06.csv / Total session trials:  461 / Number of neurons:  109\n",
      "Using splits\n",
      "score: 0.8666035792516297 f1_score  0.8658935899452362\n",
      "3.0 WM_roll Threshold: 0.6 Hit: 1 Nº of trials: 106\n",
      "10.0 WM_roll Threshold: 0.6 Hit: 1 Nº of trials: 83\n",
      "3.0 RL_roll Threshold: 0.4 Hit: 1 Nº of trials: 3\n",
      "Not enough trials with this condition\n",
      "10.0 RL_roll Threshold: 0.4 Hit: 1 Nº of trials: 3\n",
      "Not enough trials with this condition\n"
     ]
    },
    {
     "data": {
      "text/plain": [
       "<Figure size 640x480 with 0 Axes>"
      ]
     },
     "metadata": {},
     "output_type": "display_data"
    },
    {
     "name": "stdout",
     "output_type": "stream",
     "text": [
      "Using splits\n",
      "score: 0.8824305483443002 f1_score  0.8863066968939782\n",
      "Not enough trials with this condition\n",
      "Not enough trials with this condition\n"
     ]
    },
    {
     "data": {
      "text/plain": [
       "<Figure size 640x480 with 0 Axes>"
      ]
     },
     "metadata": {},
     "output_type": "display_data"
    },
    {
     "name": "stdout",
     "output_type": "stream",
     "text": [
      "Using splits\n",
      "score: 0.8663616428037556 f1_score  0.8850779967159278\n",
      "Not enough trials with this condition\n",
      "Not enough trials with this condition\n"
     ]
    },
    {
     "data": {
      "text/plain": [
       "<Figure size 640x480 with 0 Axes>"
      ]
     },
     "metadata": {},
     "output_type": "display_data"
    },
    {
     "name": "stdout",
     "output_type": "stream",
     "text": [
      "E17_2022-02-13_17-14-28.csv / Total session trials:  479 / Number of neurons:  30\n",
      "Using splits\n",
      "score: 0.5629446281253245 f1_score  0.6105497215067257\n",
      "3.0 WM_roll Threshold: 0.6 Hit: 1 Nº of trials: 97\n",
      "10.0 WM_roll Threshold: 0.6 Hit: 1 Nº of trials: 90\n",
      "3.0 RL_roll Threshold: 0.4 Hit: 1 Nº of trials: 2\n",
      "Not enough trials with this condition\n",
      "10.0 RL_roll Threshold: 0.4 Hit: 1 Nº of trials: 2\n",
      "Not enough trials with this condition\n"
     ]
    },
    {
     "data": {
      "text/plain": [
       "<Figure size 640x480 with 0 Axes>"
      ]
     },
     "metadata": {},
     "output_type": "display_data"
    },
    {
     "name": "stdout",
     "output_type": "stream",
     "text": [
      "Using splits\n",
      "score: 0.5607578195421847 f1_score  0.5921561305627553\n",
      "Not enough trials with this condition\n",
      "Not enough trials with this condition\n"
     ]
    },
    {
     "data": {
      "text/plain": [
       "<Figure size 640x480 with 0 Axes>"
      ]
     },
     "metadata": {},
     "output_type": "display_data"
    },
    {
     "name": "stdout",
     "output_type": "stream",
     "text": [
      "Using splits\n",
      "score: 0.5771675979816867 f1_score  0.6308591317091042\n",
      "Not enough trials with this condition\n",
      "Not enough trials with this condition\n"
     ]
    },
    {
     "data": {
      "text/plain": [
       "<Figure size 640x480 with 0 Axes>"
      ]
     },
     "metadata": {},
     "output_type": "display_data"
    },
    {
     "name": "stdout",
     "output_type": "stream",
     "text": [
      "E19_2022-01-14_14-42-13.csv / Total session trials:  390 / Number of neurons:  39\n",
      "Using splits\n",
      "score: 0.6957387530096274 f1_score  0.7175652757658199\n",
      "3.0 WM_roll Threshold: 0.6 Hit: 1 Nº of trials: 80\n",
      "10.0 WM_roll Threshold: 0.6 Hit: 1 Nº of trials: 79\n",
      "3.0 RL_roll Threshold: 0.4 Hit: 1 Nº of trials: 2\n",
      "Not enough trials with this condition\n",
      "10.0 RL_roll Threshold: 0.4 Hit: 1 Nº of trials: 1\n",
      "Not enough trials with this condition\n"
     ]
    },
    {
     "data": {
      "text/plain": [
       "<Figure size 640x480 with 0 Axes>"
      ]
     },
     "metadata": {},
     "output_type": "display_data"
    },
    {
     "name": "stdout",
     "output_type": "stream",
     "text": [
      "Using splits\n",
      "score: 0.7455585053428827 f1_score  0.7945954907161804\n",
      "Not enough trials with this condition\n",
      "Not enough trials with this condition\n"
     ]
    },
    {
     "data": {
      "text/plain": [
       "<Figure size 640x480 with 0 Axes>"
      ]
     },
     "metadata": {},
     "output_type": "display_data"
    },
    {
     "name": "stdout",
     "output_type": "stream",
     "text": [
      "Using splits\n",
      "score: 0.7506737931339356 f1_score  0.781131381526521\n",
      "Not enough trials with this condition\n",
      "Not enough trials with this condition\n"
     ]
    },
    {
     "data": {
      "text/plain": [
       "<Figure size 640x480 with 0 Axes>"
      ]
     },
     "metadata": {},
     "output_type": "display_data"
    },
    {
     "name": "stdout",
     "output_type": "stream",
     "text": [
      "E19_2022-01-15_15-13-28.csv / Total session trials:  281 / Number of neurons:  48\n",
      "Using splits\n",
      "score: 0.5957632344122378 f1_score  0.6655543196143863\n",
      "3.0 WM_roll Threshold: 0.6 Hit: 1 Nº of trials: 57\n",
      "10.0 WM_roll Threshold: 0.6 Hit: 1 Nº of trials: 70\n",
      "3.0 RL_roll Threshold: 0.4 Hit: 1 Nº of trials: 2\n",
      "Not enough trials with this condition\n",
      "10.0 RL_roll Threshold: 0.4 Hit: 1 Nº of trials: 2\n",
      "Not enough trials with this condition\n"
     ]
    },
    {
     "data": {
      "text/plain": [
       "<Figure size 640x480 with 0 Axes>"
      ]
     },
     "metadata": {},
     "output_type": "display_data"
    },
    {
     "name": "stdout",
     "output_type": "stream",
     "text": [
      "Using splits\n",
      "score: 0.5787326895633618 f1_score  0.616347133462999\n",
      "Not enough trials with this condition\n",
      "Not enough trials with this condition\n"
     ]
    },
    {
     "data": {
      "text/plain": [
       "<Figure size 640x480 with 0 Axes>"
      ]
     },
     "metadata": {},
     "output_type": "display_data"
    },
    {
     "name": "stdout",
     "output_type": "stream",
     "text": [
      "Using splits\n",
      "score: 0.6433048462134165 f1_score  0.7333333333333333\n",
      "Not enough trials with this condition\n",
      "Not enough trials with this condition\n"
     ]
    },
    {
     "data": {
      "text/plain": [
       "<Figure size 640x480 with 0 Axes>"
      ]
     },
     "metadata": {},
     "output_type": "display_data"
    },
    {
     "name": "stdout",
     "output_type": "stream",
     "text": [
      "E19_2022-01-16_15-40-47.csv / Total session trials:  486 / Number of neurons:  17\n",
      "Using splits\n",
      "score: 0.5507689833852196 f1_score  0.5887647588288241\n",
      "3.0 WM_roll Threshold: 0.6 Hit: 1 Nº of trials: 124\n",
      "10.0 WM_roll Threshold: 0.6 Hit: 1 Nº of trials: 87\n",
      "3.0 RL_roll Threshold: 0.4 Hit: 1 Nº of trials: 0\n",
      "Not enough trials with this condition\n",
      "10.0 RL_roll Threshold: 0.4 Hit: 1 Nº of trials: 0\n",
      "Not enough trials with this condition\n"
     ]
    },
    {
     "data": {
      "text/plain": [
       "<Figure size 640x480 with 0 Axes>"
      ]
     },
     "metadata": {},
     "output_type": "display_data"
    },
    {
     "name": "stdout",
     "output_type": "stream",
     "text": [
      "Using splits\n",
      "score: 0.5465154630343924 f1_score  0.6065931910592105\n",
      "Not enough trials with this condition\n",
      "Not enough trials with this condition\n"
     ]
    },
    {
     "data": {
      "text/plain": [
       "<Figure size 640x480 with 0 Axes>"
      ]
     },
     "metadata": {},
     "output_type": "display_data"
    },
    {
     "name": "stdout",
     "output_type": "stream",
     "text": [
      "Using splits\n",
      "score: 0.5446256835269376 f1_score  0.5901985699355645\n",
      "Not enough trials with this condition\n",
      "Not enough trials with this condition\n"
     ]
    },
    {
     "data": {
      "text/plain": [
       "<Figure size 640x480 with 0 Axes>"
      ]
     },
     "metadata": {},
     "output_type": "display_data"
    },
    {
     "name": "stdout",
     "output_type": "stream",
     "text": [
      "E19_2022-01-17_15-34-37.csv / Total session trials:  455 / Number of neurons:  11\n",
      "Using splits\n",
      "score: 0.5481789937887479 f1_score  0.6254884932696484\n",
      "3.0 WM_roll Threshold: 0.6 Hit: 1 Nº of trials: 99\n",
      "10.0 WM_roll Threshold: 0.6 Hit: 1 Nº of trials: 80\n",
      "3.0 RL_roll Threshold: 0.4 Hit: 1 Nº of trials: 2\n",
      "Not enough trials with this condition\n",
      "10.0 RL_roll Threshold: 0.4 Hit: 1 Nº of trials: 2\n",
      "Not enough trials with this condition\n"
     ]
    },
    {
     "data": {
      "text/plain": [
       "<Figure size 640x480 with 0 Axes>"
      ]
     },
     "metadata": {},
     "output_type": "display_data"
    },
    {
     "name": "stdout",
     "output_type": "stream",
     "text": [
      "Using splits\n",
      "score: 0.5053118037182537 f1_score  0.5307881773399015\n",
      "Not enough trials with this condition\n",
      "Not enough trials with this condition\n"
     ]
    },
    {
     "data": {
      "text/plain": [
       "<Figure size 640x480 with 0 Axes>"
      ]
     },
     "metadata": {},
     "output_type": "display_data"
    },
    {
     "name": "stdout",
     "output_type": "stream",
     "text": [
      "Using splits\n",
      "score: 0.5516761995144591 f1_score  0.6950093680803952\n",
      "Not enough trials with this condition\n",
      "Not enough trials with this condition\n"
     ]
    },
    {
     "data": {
      "text/plain": [
       "<Figure size 640x480 with 0 Axes>"
      ]
     },
     "metadata": {},
     "output_type": "display_data"
    },
    {
     "name": "stdout",
     "output_type": "stream",
     "text": [
      "E20_2022-02-12_15-23-55.csv / Total session trials:  294 / Number of neurons:  119\n",
      "Skip session because no 10s delay\n",
      "E20_2022-02-13_15-10-51.csv / Total session trials:  396 / Number of neurons:  79\n",
      "Using splits\n",
      "score: 0.7630018364316562 f1_score  0.7672107531030935\n",
      "3.0 WM_roll Threshold: 0.6 Hit: 1 Nº of trials: 80\n",
      "10.0 WM_roll Threshold: 0.6 Hit: 1 Nº of trials: 61\n",
      "3.0 RL_roll Threshold: 0.4 Hit: 1 Nº of trials: 2\n",
      "Not enough trials with this condition\n",
      "10.0 RL_roll Threshold: 0.4 Hit: 1 Nº of trials: 9\n"
     ]
    },
    {
     "data": {
      "text/plain": [
       "<Figure size 640x480 with 0 Axes>"
      ]
     },
     "metadata": {},
     "output_type": "display_data"
    },
    {
     "name": "stdout",
     "output_type": "stream",
     "text": [
      "Using splits\n",
      "score: 0.7073333791317389 f1_score  0.7350319160445742\n",
      "Not enough trials with this condition\n"
     ]
    },
    {
     "data": {
      "text/plain": [
       "<Figure size 640x480 with 0 Axes>"
      ]
     },
     "metadata": {},
     "output_type": "display_data"
    },
    {
     "name": "stdout",
     "output_type": "stream",
     "text": [
      "Using splits\n",
      "score: 0.7019106677399287 f1_score  0.7081642512077294\n",
      "Not enough trials with this condition\n"
     ]
    },
    {
     "data": {
      "text/plain": [
       "<Figure size 640x480 with 0 Axes>"
      ]
     },
     "metadata": {},
     "output_type": "display_data"
    },
    {
     "name": "stdout",
     "output_type": "stream",
     "text": [
      "E20_2022-02-14_16-01-30.csv / Total session trials:  557 / Number of neurons:  142\n",
      "Using splits\n",
      "score: 0.8573608572947001 f1_score  0.8837894971072541\n",
      "3.0 WM_roll Threshold: 0.6 Hit: 1 Nº of trials: 123\n",
      "10.0 WM_roll Threshold: 0.6 Hit: 1 Nº of trials: 105\n",
      "3.0 RL_roll Threshold: 0.4 Hit: 1 Nº of trials: 9\n",
      "10.0 RL_roll Threshold: 0.4 Hit: 1 Nº of trials: 6\n"
     ]
    },
    {
     "data": {
      "text/plain": [
       "<Figure size 640x480 with 0 Axes>"
      ]
     },
     "metadata": {},
     "output_type": "display_data"
    },
    {
     "name": "stdout",
     "output_type": "stream",
     "text": [
      "Using splits\n",
      "score: 0.8768696469263484 f1_score  0.9015111316513186\n"
     ]
    },
    {
     "data": {
      "text/plain": [
       "<Figure size 640x480 with 0 Axes>"
      ]
     },
     "metadata": {},
     "output_type": "display_data"
    },
    {
     "name": "stdout",
     "output_type": "stream",
     "text": [
      "Using splits\n",
      "score: 0.837788316190373 f1_score  0.8571428571428571\n"
     ]
    },
    {
     "data": {
      "text/plain": [
       "<Figure size 640x480 with 0 Axes>"
      ]
     },
     "metadata": {},
     "output_type": "display_data"
    },
    {
     "name": "stdout",
     "output_type": "stream",
     "text": [
      "E20_2022-02-15_16-02-28.csv / Total session trials:  651 / Number of neurons:  23\n",
      "Using splits\n",
      "score: 0.609208256443087 f1_score  0.6666666666666666\n",
      "3.0 WM_roll Threshold: 0.6 Hit: 1 Nº of trials: 106\n",
      "10.0 WM_roll Threshold: 0.6 Hit: 1 Nº of trials: 107\n",
      "3.0 RL_roll Threshold: 0.4 Hit: 1 Nº of trials: 7\n",
      "10.0 RL_roll Threshold: 0.4 Hit: 1 Nº of trials: 9\n"
     ]
    },
    {
     "data": {
      "text/plain": [
       "<Figure size 640x480 with 0 Axes>"
      ]
     },
     "metadata": {},
     "output_type": "display_data"
    },
    {
     "name": "stdout",
     "output_type": "stream",
     "text": [
      "Using splits\n",
      "score: 0.5789260184564994 f1_score  0.6319200779727095\n"
     ]
    },
    {
     "data": {
      "text/plain": [
       "<Figure size 640x480 with 0 Axes>"
      ]
     },
     "metadata": {},
     "output_type": "display_data"
    },
    {
     "name": "stdout",
     "output_type": "stream",
     "text": [
      "Using splits\n",
      "score: 0.5772913604056977 f1_score  0.6495553212769983\n"
     ]
    },
    {
     "data": {
      "text/plain": [
       "<Figure size 640x480 with 0 Axes>"
      ]
     },
     "metadata": {},
     "output_type": "display_data"
    },
    {
     "name": "stdout",
     "output_type": "stream",
     "text": [
      "E20_2022-02-26_16-49-05.csv / Total session trials:  556 / Number of neurons:  46\n",
      "Skip session because no 10s delay\n",
      "E20_2022-02-27_17-02-17.csv / Total session trials:  540 / Number of neurons:  35\n",
      "Using splits\n",
      "score: 0.6793785790151587 f1_score  0.7148054324900401\n",
      "3.0 WM_roll Threshold: 0.6 Hit: 1 Nº of trials: 115\n",
      "10.0 WM_roll Threshold: 0.6 Hit: 1 Nº of trials: 103\n",
      "3.0 RL_roll Threshold: 0.4 Hit: 1 Nº of trials: 2\n",
      "Not enough trials with this condition\n",
      "10.0 RL_roll Threshold: 0.4 Hit: 1 Nº of trials: 2\n",
      "Not enough trials with this condition\n"
     ]
    },
    {
     "data": {
      "text/plain": [
       "<Figure size 640x480 with 0 Axes>"
      ]
     },
     "metadata": {},
     "output_type": "display_data"
    },
    {
     "name": "stdout",
     "output_type": "stream",
     "text": [
      "Using splits\n",
      "score: 0.6845114628102263 f1_score  0.7407615818565161\n",
      "Not enough trials with this condition\n",
      "Not enough trials with this condition\n"
     ]
    },
    {
     "data": {
      "text/plain": [
       "<Figure size 640x480 with 0 Axes>"
      ]
     },
     "metadata": {},
     "output_type": "display_data"
    },
    {
     "name": "stdout",
     "output_type": "stream",
     "text": [
      "Using splits\n",
      "score: 0.7148366477508628 f1_score  0.7666666666666667\n",
      "Not enough trials with this condition\n",
      "Not enough trials with this condition\n"
     ]
    },
    {
     "data": {
      "text/plain": [
       "<Figure size 640x480 with 0 Axes>"
      ]
     },
     "metadata": {},
     "output_type": "display_data"
    },
    {
     "name": "stdout",
     "output_type": "stream",
     "text": [
      "E20_2022-02-28_16-05-49.csv / Total session trials:  511 / Number of neurons:  32\n",
      "Using splits\n",
      "score: 0.7074116044442361 f1_score  0.7771893905896701\n",
      "3.0 WM_roll Threshold: 0.6 Hit: 1 Nº of trials: 104\n",
      "10.0 WM_roll Threshold: 0.6 Hit: 1 Nº of trials: 116\n",
      "3.0 RL_roll Threshold: 0.4 Hit: 1 Nº of trials: 1\n",
      "Not enough trials with this condition\n",
      "10.0 RL_roll Threshold: 0.4 Hit: 1 Nº of trials: 1\n",
      "Not enough trials with this condition\n"
     ]
    },
    {
     "data": {
      "text/plain": [
       "<Figure size 640x480 with 0 Axes>"
      ]
     },
     "metadata": {},
     "output_type": "display_data"
    },
    {
     "name": "stdout",
     "output_type": "stream",
     "text": [
      "Using splits\n",
      "score: 0.6949021013738818 f1_score  0.7875773504557855\n",
      "Not enough trials with this condition\n",
      "Not enough trials with this condition\n"
     ]
    },
    {
     "data": {
      "text/plain": [
       "<Figure size 640x480 with 0 Axes>"
      ]
     },
     "metadata": {},
     "output_type": "display_data"
    },
    {
     "name": "stdout",
     "output_type": "stream",
     "text": [
      "Using splits\n",
      "score: 0.6680220619576309 f1_score  0.740885520542481\n",
      "Not enough trials with this condition\n",
      "Not enough trials with this condition\n"
     ]
    },
    {
     "data": {
      "text/plain": [
       "<Figure size 640x480 with 0 Axes>"
      ]
     },
     "metadata": {},
     "output_type": "display_data"
    },
    {
     "name": "stdout",
     "output_type": "stream",
     "text": [
      "E20_2022-03-01_16-11-01.csv / Total session trials:  561 / Number of neurons:  32\n",
      "Using splits\n",
      "score: 0.7776409995181782 f1_score  0.8070146951368027\n",
      "3.0 WM_roll Threshold: 0.6 Hit: 1 Nº of trials: 90\n",
      "10.0 WM_roll Threshold: 0.6 Hit: 1 Nº of trials: 113\n",
      "3.0 RL_roll Threshold: 0.4 Hit: 1 Nº of trials: 16\n",
      "10.0 RL_roll Threshold: 0.4 Hit: 1 Nº of trials: 11\n"
     ]
    },
    {
     "data": {
      "text/plain": [
       "<Figure size 640x480 with 0 Axes>"
      ]
     },
     "metadata": {},
     "output_type": "display_data"
    },
    {
     "name": "stdout",
     "output_type": "stream",
     "text": [
      "Using splits\n",
      "score: 0.8104098574332544 f1_score  0.8714947204431367\n"
     ]
    },
    {
     "data": {
      "text/plain": [
       "<Figure size 640x480 with 0 Axes>"
      ]
     },
     "metadata": {},
     "output_type": "display_data"
    },
    {
     "name": "stdout",
     "output_type": "stream",
     "text": [
      "Using splits\n",
      "score: 0.7873308384114421 f1_score  0.8240891581798725\n"
     ]
    },
    {
     "data": {
      "text/plain": [
       "<Figure size 640x480 with 0 Axes>"
      ]
     },
     "metadata": {},
     "output_type": "display_data"
    },
    {
     "name": "stdout",
     "output_type": "stream",
     "text": [
      "E22_2022-01-13_16-34-24.csv / Total session trials:  355 / Number of neurons:  104\n",
      "Using splits\n",
      "score: 0.6510571371558965 f1_score  0.6674242424242424\n",
      "3.0 WM_roll Threshold: 0.6 Hit: 1 Nº of trials: 43\n",
      "10.0 WM_roll Threshold: 0.6 Hit: 1 Nº of trials: 31\n",
      "3.0 RL_roll Threshold: 0.4 Hit: 1 Nº of trials: 27\n",
      "10.0 RL_roll Threshold: 0.4 Hit: 1 Nº of trials: 26\n"
     ]
    },
    {
     "data": {
      "text/plain": [
       "<Figure size 640x480 with 0 Axes>"
      ]
     },
     "metadata": {},
     "output_type": "display_data"
    },
    {
     "name": "stdout",
     "output_type": "stream",
     "text": [
      "Using splits\n",
      "score: 0.7506945728239929 f1_score  0.7850981680768915\n"
     ]
    },
    {
     "data": {
      "text/plain": [
       "<Figure size 640x480 with 0 Axes>"
      ]
     },
     "metadata": {},
     "output_type": "display_data"
    },
    {
     "name": "stdout",
     "output_type": "stream",
     "text": [
      "Using splits\n",
      "score: 0.8248765891199428 f1_score  0.8811549577289793\n"
     ]
    },
    {
     "data": {
      "text/plain": [
       "<Figure size 640x480 with 0 Axes>"
      ]
     },
     "metadata": {},
     "output_type": "display_data"
    },
    {
     "name": "stdout",
     "output_type": "stream",
     "text": [
      "E22_2022-01-14_16-50-37.csv / Total session trials:  437 / Number of neurons:  78\n",
      "Using splits\n",
      "score: 0.7560994436764752 f1_score  0.777665770609319\n",
      "3.0 WM_roll Threshold: 0.6 Hit: 1 Nº of trials: 67\n",
      "10.0 WM_roll Threshold: 0.6 Hit: 1 Nº of trials: 66\n",
      "3.0 RL_roll Threshold: 0.4 Hit: 1 Nº of trials: 18\n",
      "10.0 RL_roll Threshold: 0.4 Hit: 1 Nº of trials: 14\n"
     ]
    },
    {
     "data": {
      "text/plain": [
       "<Figure size 640x480 with 0 Axes>"
      ]
     },
     "metadata": {},
     "output_type": "display_data"
    },
    {
     "name": "stdout",
     "output_type": "stream",
     "text": [
      "Using splits\n",
      "score: 0.7519574089859047 f1_score  0.7933385376008326\n"
     ]
    },
    {
     "data": {
      "text/plain": [
       "<Figure size 640x480 with 0 Axes>"
      ]
     },
     "metadata": {},
     "output_type": "display_data"
    },
    {
     "name": "stdout",
     "output_type": "stream",
     "text": [
      "Using splits\n",
      "score: 0.7795049413032977 f1_score  0.7876152832674572\n"
     ]
    },
    {
     "data": {
      "text/plain": [
       "<Figure size 640x480 with 0 Axes>"
      ]
     },
     "metadata": {},
     "output_type": "display_data"
    },
    {
     "name": "stdout",
     "output_type": "stream",
     "text": [
      "E22_2022-01-15_16-53-52.csv / Total session trials:  326 / Number of neurons:  89\n",
      "Using splits\n",
      "score: 0.8147419737502826 f1_score  0.8620689655172413\n",
      "3.0 WM_roll Threshold: 0.6 Hit: 1 Nº of trials: 52\n",
      "10.0 WM_roll Threshold: 0.6 Hit: 1 Nº of trials: 52\n",
      "3.0 RL_roll Threshold: 0.4 Hit: 1 Nº of trials: 3\n",
      "Not enough trials with this condition\n",
      "10.0 RL_roll Threshold: 0.4 Hit: 1 Nº of trials: 5\n"
     ]
    },
    {
     "data": {
      "text/plain": [
       "<Figure size 640x480 with 0 Axes>"
      ]
     },
     "metadata": {},
     "output_type": "display_data"
    },
    {
     "name": "stdout",
     "output_type": "stream",
     "text": [
      "Using splits\n",
      "score: 0.8097930231138556 f1_score  0.8101756436679074\n",
      "Not enough trials with this condition\n"
     ]
    },
    {
     "data": {
      "text/plain": [
       "<Figure size 640x480 with 0 Axes>"
      ]
     },
     "metadata": {},
     "output_type": "display_data"
    },
    {
     "name": "stdout",
     "output_type": "stream",
     "text": [
      "Using splits\n",
      "score: 0.7844971440235033 f1_score  0.8070175438596491\n",
      "Not enough trials with this condition\n"
     ]
    },
    {
     "data": {
      "text/plain": [
       "<Figure size 640x480 with 0 Axes>"
      ]
     },
     "metadata": {},
     "output_type": "display_data"
    },
    {
     "name": "stdout",
     "output_type": "stream",
     "text": [
      "E22_2022-01-16_18-00-47.csv / Total session trials:  403 / Number of neurons:  64\n",
      "Using splits\n",
      "score: 0.7043138779566107 f1_score  0.7480818414322251\n",
      "3.0 WM_roll Threshold: 0.6 Hit: 1 Nº of trials: 42\n",
      "10.0 WM_roll Threshold: 0.6 Hit: 1 Nº of trials: 31\n",
      "3.0 RL_roll Threshold: 0.4 Hit: 1 Nº of trials: 32\n",
      "10.0 RL_roll Threshold: 0.4 Hit: 1 Nº of trials: 28\n"
     ]
    },
    {
     "data": {
      "text/plain": [
       "<Figure size 640x480 with 0 Axes>"
      ]
     },
     "metadata": {},
     "output_type": "display_data"
    },
    {
     "name": "stdout",
     "output_type": "stream",
     "text": [
      "Using splits\n",
      "score: 0.5606839703872165 f1_score  0.5466165413533834\n"
     ]
    },
    {
     "data": {
      "text/plain": [
       "<Figure size 640x480 with 0 Axes>"
      ]
     },
     "metadata": {},
     "output_type": "display_data"
    },
    {
     "name": "stdout",
     "output_type": "stream",
     "text": [
      "Using splits\n",
      "score: 0.5851316086676519 f1_score  0.5736507936507936\n"
     ]
    },
    {
     "data": {
      "text/plain": [
       "<Figure size 640x480 with 0 Axes>"
      ]
     },
     "metadata": {},
     "output_type": "display_data"
    },
    {
     "name": "stdout",
     "output_type": "stream",
     "text": [
      "E22_2022-01-17_18-05-16.csv / Total session trials:  300 / Number of neurons:  53\n",
      "Using splits\n",
      "score: 0.6914461764855069 f1_score  0.7059344062828384\n",
      "3.0 WM_roll Threshold: 0.6 Hit: 1 Nº of trials: 50\n",
      "10.0 WM_roll Threshold: 0.6 Hit: 1 Nº of trials: 38\n",
      "3.0 RL_roll Threshold: 0.4 Hit: 1 Nº of trials: 9\n",
      "10.0 RL_roll Threshold: 0.4 Hit: 1 Nº of trials: 9\n"
     ]
    },
    {
     "data": {
      "text/plain": [
       "<Figure size 640x480 with 0 Axes>"
      ]
     },
     "metadata": {},
     "output_type": "display_data"
    },
    {
     "name": "stdout",
     "output_type": "stream",
     "text": [
      "Using splits\n",
      "score: 0.6454599108450679 f1_score  0.6444444444444445\n"
     ]
    },
    {
     "data": {
      "text/plain": [
       "<Figure size 640x480 with 0 Axes>"
      ]
     },
     "metadata": {},
     "output_type": "display_data"
    },
    {
     "name": "stdout",
     "output_type": "stream",
     "text": [
      "Using splits\n",
      "score: 0.5904172029995148 f1_score  0.5643097643097642\n"
     ]
    },
    {
     "data": {
      "text/plain": [
       "<Figure size 640x480 with 0 Axes>"
      ]
     },
     "metadata": {},
     "output_type": "display_data"
    },
    {
     "name": "stdout",
     "output_type": "stream",
     "text": [
      "E22_2022-01-21_16-23-50.csv / Total session trials:  399 / Number of neurons:  57\n",
      "Using splits\n",
      "score: 0.624583112844052 f1_score  0.6671814671814672\n",
      "3.0 WM_roll Threshold: 0.6 Hit: 1 Nº of trials: 70\n",
      "10.0 WM_roll Threshold: 0.6 Hit: 1 Nº of trials: 75\n",
      "3.0 RL_roll Threshold: 0.4 Hit: 1 Nº of trials: 4\n",
      "Not enough trials with this condition\n",
      "10.0 RL_roll Threshold: 0.4 Hit: 1 Nº of trials: 4\n",
      "Not enough trials with this condition\n"
     ]
    },
    {
     "data": {
      "text/plain": [
       "<Figure size 640x480 with 0 Axes>"
      ]
     },
     "metadata": {},
     "output_type": "display_data"
    },
    {
     "name": "stdout",
     "output_type": "stream",
     "text": [
      "Using splits\n",
      "score: 0.642405452833312 f1_score  0.6509661835748791\n",
      "Not enough trials with this condition\n",
      "Not enough trials with this condition\n"
     ]
    },
    {
     "data": {
      "text/plain": [
       "<Figure size 640x480 with 0 Axes>"
      ]
     },
     "metadata": {},
     "output_type": "display_data"
    },
    {
     "name": "stdout",
     "output_type": "stream",
     "text": [
      "Using splits\n",
      "score: 0.6516992102192662 f1_score  0.6395131086142322\n",
      "Not enough trials with this condition\n",
      "Not enough trials with this condition\n"
     ]
    },
    {
     "data": {
      "text/plain": [
       "<Figure size 640x480 with 0 Axes>"
      ]
     },
     "metadata": {},
     "output_type": "display_data"
    },
    {
     "name": "stdout",
     "output_type": "stream",
     "text": [
      "E22_2022-01-22_17-09-15.csv / Total session trials:  154 / Number of neurons:  78\n",
      "Using splits\n",
      "score: 0.6502755305997566 f1_score  0.64\n",
      "3.0 WM_roll Threshold: 0.6 Hit: 1 Nº of trials: 26\n",
      "10.0 WM_roll Threshold: 0.6 Hit: 1 Nº of trials: 29\n",
      "3.0 RL_roll Threshold: 0.4 Hit: 1 Nº of trials: 3\n",
      "Not enough trials with this condition\n",
      "10.0 RL_roll Threshold: 0.4 Hit: 1 Nº of trials: 3\n",
      "Not enough trials with this condition\n"
     ]
    },
    {
     "data": {
      "text/plain": [
       "<Figure size 640x480 with 0 Axes>"
      ]
     },
     "metadata": {},
     "output_type": "display_data"
    },
    {
     "name": "stdout",
     "output_type": "stream",
     "text": [
      "Using splits\n",
      "score: 0.6052219192333103 f1_score  0.6365217391304349\n",
      "Not enough trials with this condition\n",
      "Not enough trials with this condition\n"
     ]
    },
    {
     "data": {
      "text/plain": [
       "<Figure size 640x480 with 0 Axes>"
      ]
     },
     "metadata": {},
     "output_type": "display_data"
    },
    {
     "name": "stdout",
     "output_type": "stream",
     "text": [
      "Using splits\n",
      "score: 0.5974791789557176 f1_score  0.6666666666666666\n",
      "Not enough trials with this condition\n",
      "Not enough trials with this condition\n"
     ]
    },
    {
     "data": {
      "text/plain": [
       "<Figure size 640x480 with 0 Axes>"
      ]
     },
     "metadata": {},
     "output_type": "display_data"
    },
    {
     "ename": "AttributeError",
     "evalue": "'DataFrame' object has no attribute 'trial'",
     "output_type": "error",
     "traceback": [
      "\u001b[1;31m---------------------------------------------------------------------------\u001b[0m",
      "\u001b[1;31mAttributeError\u001b[0m                            Traceback (most recent call last)",
      "\u001b[1;32m~\\AppData\\Local\\Temp\\ipykernel_23864\\2804974521.py\u001b[0m in \u001b[0;36m?\u001b[1;34m()\u001b[0m\n\u001b[0;32m      8\u001b[0m         \u001b[0mdf\u001b[0m \u001b[1;33m=\u001b[0m \u001b[0mpd\u001b[0m\u001b[1;33m.\u001b[0m\u001b[0mread_csv\u001b[0m\u001b[1;33m(\u001b[0m\u001b[0mfilename\u001b[0m\u001b[1;33m,\u001b[0m \u001b[0msep\u001b[0m\u001b[1;33m=\u001b[0m\u001b[1;34m','\u001b[0m\u001b[1;33m,\u001b[0m\u001b[0mindex_col\u001b[0m\u001b[1;33m=\u001b[0m\u001b[1;36m0\u001b[0m\u001b[1;33m)\u001b[0m\u001b[1;33m\u001b[0m\u001b[1;33m\u001b[0m\u001b[0m\n\u001b[0;32m      9\u001b[0m     \u001b[1;32melse\u001b[0m\u001b[1;33m:\u001b[0m\u001b[1;33m\u001b[0m\u001b[1;33m\u001b[0m\u001b[0m\n\u001b[0;32m     10\u001b[0m         \u001b[1;32mcontinue\u001b[0m\u001b[1;33m\u001b[0m\u001b[1;33m\u001b[0m\u001b[0m\n\u001b[0;32m     11\u001b[0m \u001b[1;33m\u001b[0m\u001b[0m\n\u001b[1;32m---> 12\u001b[1;33m     \u001b[0mprint\u001b[0m\u001b[1;33m(\u001b[0m\u001b[0mfilename\u001b[0m\u001b[1;33m,\u001b[0m \u001b[1;34m'/ Total session trials: '\u001b[0m\u001b[1;33m,\u001b[0m \u001b[0mlen\u001b[0m\u001b[1;33m(\u001b[0m\u001b[0mdf\u001b[0m\u001b[1;33m.\u001b[0m\u001b[0mtrial\u001b[0m\u001b[1;33m.\u001b[0m\u001b[0munique\u001b[0m\u001b[1;33m(\u001b[0m\u001b[1;33m)\u001b[0m\u001b[1;33m)\u001b[0m\u001b[1;33m,\u001b[0m \u001b[1;34m'/ Number of neurons: '\u001b[0m\u001b[1;33m,\u001b[0m \u001b[0mlen\u001b[0m\u001b[1;33m(\u001b[0m\u001b[0mdf\u001b[0m\u001b[1;33m.\u001b[0m\u001b[0mcluster_id\u001b[0m\u001b[1;33m.\u001b[0m\u001b[0munique\u001b[0m\u001b[1;33m(\u001b[0m\u001b[1;33m)\u001b[0m\u001b[1;33m)\u001b[0m\u001b[1;33m)\u001b[0m\u001b[1;33m\u001b[0m\u001b[1;33m\u001b[0m\u001b[0m\n\u001b[0m\u001b[0;32m     13\u001b[0m \u001b[1;33m\u001b[0m\u001b[0m\n\u001b[0;32m     14\u001b[0m     \u001b[0mdf\u001b[0m \u001b[1;33m=\u001b[0m \u001b[0mephys\u001b[0m\u001b[1;33m.\u001b[0m\u001b[0madd_time_before_stimulus\u001b[0m\u001b[1;33m(\u001b[0m\u001b[0mdf\u001b[0m\u001b[1;33m,\u001b[0m \u001b[1;36m4\u001b[0m\u001b[1;33m)\u001b[0m\u001b[1;33m\u001b[0m\u001b[1;33m\u001b[0m\u001b[0m\n\u001b[0;32m     15\u001b[0m \u001b[1;33m\u001b[0m\u001b[0m\n",
      "\u001b[1;32mc:\\Users\\tiffany.ona\\Documents\\working_memory\\.venv\\Lib\\site-packages\\pandas\\core\\generic.py\u001b[0m in \u001b[0;36m?\u001b[1;34m(self, name)\u001b[0m\n\u001b[0;32m   5898\u001b[0m             \u001b[1;32mand\u001b[0m \u001b[0mname\u001b[0m \u001b[1;32mnot\u001b[0m \u001b[1;32min\u001b[0m \u001b[0mself\u001b[0m\u001b[1;33m.\u001b[0m\u001b[0m_accessors\u001b[0m\u001b[1;33m\u001b[0m\u001b[1;33m\u001b[0m\u001b[0m\n\u001b[0;32m   5899\u001b[0m             \u001b[1;32mand\u001b[0m \u001b[0mself\u001b[0m\u001b[1;33m.\u001b[0m\u001b[0m_info_axis\u001b[0m\u001b[1;33m.\u001b[0m\u001b[0m_can_hold_identifiers_and_holds_name\u001b[0m\u001b[1;33m(\u001b[0m\u001b[0mname\u001b[0m\u001b[1;33m)\u001b[0m\u001b[1;33m\u001b[0m\u001b[1;33m\u001b[0m\u001b[0m\n\u001b[0;32m   5900\u001b[0m         ):\n\u001b[0;32m   5901\u001b[0m             \u001b[1;32mreturn\u001b[0m \u001b[0mself\u001b[0m\u001b[1;33m[\u001b[0m\u001b[0mname\u001b[0m\u001b[1;33m]\u001b[0m\u001b[1;33m\u001b[0m\u001b[1;33m\u001b[0m\u001b[0m\n\u001b[1;32m-> 5902\u001b[1;33m         \u001b[1;32mreturn\u001b[0m \u001b[0mobject\u001b[0m\u001b[1;33m.\u001b[0m\u001b[0m__getattribute__\u001b[0m\u001b[1;33m(\u001b[0m\u001b[0mself\u001b[0m\u001b[1;33m,\u001b[0m \u001b[0mname\u001b[0m\u001b[1;33m)\u001b[0m\u001b[1;33m\u001b[0m\u001b[1;33m\u001b[0m\u001b[0m\n\u001b[0m",
      "\u001b[1;31mAttributeError\u001b[0m: 'DataFrame' object has no attribute 'trial'"
     ]
    }
   ],
   "source": [
    "## Dataframe used for cumulative analysis\n",
    "df_cum = pd.DataFrame()\n",
    "df_cum_shuffle = pd.DataFrame()\n",
    "\n",
    "os.chdir(path_to_data)\n",
    "for filename in os.listdir(os.getcwd()):\n",
    "    if filename[-3:] != 'pdf':\n",
    "        df = pd.read_csv(filename, sep=',',index_col=0)\n",
    "    else:\n",
    "        continue\n",
    "        \n",
    "    print(filename, '/ Total session trials: ', len(df.trial.unique()), '/ Number of neurons: ', len(df.cluster_id.unique()))\n",
    "    \n",
    "    df = ephys.add_time_before_stimulus(df, 4)\n",
    "\n",
    "    substract = True\n",
    "    df['delay'] = np.around(df.delay,2)\n",
    "    \n",
    "    if 10 not in df.delay.unique():\n",
    "        print('Skip session because no 10s delay')\n",
    "        continue\n",
    "    \n",
    "    # Variables used for decoder training\n",
    "    decode = 'vector_answer'\n",
    "    align = 'Delay_OFF'\n",
    "    ratio = 0.6\n",
    "    delay_train = 'all'\n",
    "    start = -0.5\n",
    "    stop = 0\n",
    "    type_trial ='WM_roll'\n",
    "    hit = 1\n",
    "    nsplits = 3\n",
    "    \n",
    "    #Variables for testing\n",
    "    colors=['darkgreen','darkorange', 'crimson', 'pink']\n",
    "    variables = ['WM_roll','WM_roll','RL_roll','RL_roll']\n",
    "    hits = [1,1,1,1]\n",
    "    ratios = [0.6,0.6,0.4, 0.4]\n",
    "    delays = [3, 10, 3, 10]\n",
    "    variables_combined = [f\"{variables[i]}_{delays[i]}\" for i in range(len(variables))]\n",
    "            \n",
    "    cluster_list = df.cluster_id.unique()\n",
    "\n",
    "    skf = StratifiedKFold(n_splits=nsplits, shuffle=True)\n",
    "\n",
    "    # Create a dataframe for training data\n",
    "    if type_trial == 'all':\n",
    "        df_train = df.loc[(df.hit==hit)]\n",
    "    elif hit == 'all':\n",
    "        df_train = df.loc[(df[type_trial]>=ratio)]\n",
    "    else:\n",
    "        df_train = df.loc[(df[type_trial]>=ratio)&(df.hit==hit)]\n",
    "    \n",
    "    if delay_train != 'all':\n",
    "        df_train = df_train.loc[(df_train.delay==delay_train)]\n",
    "    else:\n",
    "        df_train = df_train.loc[(df_train.delay!=0.2)&(df_train.delay!=0.1)]\n",
    "            \n",
    "    df_final, y = interval_extraction_trial(df_train, variable = decode, align = align, start = start, stop = stop, cluster_list=cluster_list)\n",
    "    df_final.reset_index(inplace=True)\n",
    "    df_final = df_final.drop(columns ='trial')\n",
    "\n",
    "    fold_no = 1\n",
    "    if len(y) < nsplits:\n",
    "        print('Skip session because not enough trials')\n",
    "        continue\n",
    "        \n",
    "    for train_index, test_index in skf.split(df_final, y):\n",
    "        model, train_cols, score, sc_fit = train(df_train, decode=decode, align=align, start=start,stop=stop, cluster_list = cluster_list, \n",
    "                                  test_index=test_index,  train_index=train_index)\n",
    "\n",
    "        # Remove a fifth of the dataset so it can be compared to crossvalidated data. If we want to randomly reduce it, add reduce to trian function\n",
    "        # drop_list = np.array_split(df_train.trial.unique(), 5)[fold_no]\n",
    "        # df_train = df_train[~df_train['trial'].isin(drop_list)]\n",
    "        # index_train_trials = df_train.trial.unique()\n",
    "        # print('Total of left: ', len(df_train.loc[df_train['vector_answer'] == 0].groupby('trial').mean()), '; Total of right: ', len(df_train.loc[df_train['vector_answer'] == 1].groupby('trial').mean()))\n",
    "\n",
    "        # fig, ax1 = plt.subplots(1,1, figsize=(8, 4), sharey=True)\n",
    "        for color, variable, delay, hit, ratio in zip(colors,variables, delays, hits,ratios):\n",
    "            df_res = pd.DataFrame()\n",
    "            df_sti = pd.DataFrame()\n",
    "            df_iter = pd.DataFrame()\n",
    "            try:\n",
    "                df_delay = df.loc[np.around(df.delay,1)==delay]\n",
    "                delay=np.around(df_delay.delay.iloc[0],1)\n",
    "                # print('Delay:', delay)\n",
    "            except:\n",
    "                pass\n",
    "\n",
    "            if delay == 0.1 or delay == 0.2:\n",
    "                endrange=3.5\n",
    "                r=0.25\n",
    "\n",
    "            elif delay == 1:\n",
    "                endrange=4.5\n",
    "                r=0.25\n",
    "\n",
    "            elif delay == 3:\n",
    "                endrange=6.5    \n",
    "                r=0.25\n",
    "                \n",
    "            elif delay == 10:\n",
    "                endrange=14.5\n",
    "                r=0.25\n",
    "            \n",
    "            # Create a dataframe for testing data\n",
    "            if variable == 'all':\n",
    "                df_test = df_delay.loc[(df_delay.hit==hit)]\n",
    "            elif hit == 'all':\n",
    "                df_test = df_delay.loc[(df_delay[variable]>=ratio)]\n",
    "            else:\n",
    "                df_test = df_delay.loc[(df_delay[variable]>=ratio)&(df_delay.hit==hit)]\n",
    "                \n",
    "            if fold_no == 1:\n",
    "                print(delay, variable, 'Threshold:', ratio, 'Hit:', hit, 'Nº of trials:', len(df_test.trial.unique()))\n",
    "\n",
    "# -----------  Remove the trials that overlap with the training set.\n",
    "            list_train_trials = df_train.trial.unique()[train_index]\n",
    "            df_test = df_test[~df_test['trial'].isin(list_train_trials)] \n",
    "\n",
    "            if len(df_test.trial.unique()) < 5:\n",
    "                print('Not enough trials with this condition')\n",
    "                continue\n",
    "            \n",
    "            if delay_train != delay:\n",
    "                # print('Reduced trials from:', len(df_test.trial.unique()))\n",
    "                values = df_test.groupby('trial').mean().reset_index()\n",
    "                select_trials = values.sample(n=len(test_index), replace=True).trial.unique()\n",
    "                df_test = df_test[df_test['trial'].isin(select_trials)]\n",
    "                # print('Reduced trials to:', len(df_test.trial.unique()))\n",
    "                \n",
    "            if len(df_test.trial.unique()) < 5:\n",
    "                print('Not enough trials with this condition')\n",
    "                continue\n",
    "\n",
    "            df_real,df_temp = test(df_test, sc_fit, decode= decode,epoch='Stimulus_ON',initrange=-2,endrange=endrange, r=r, model = model, delay_only=delay, variable=variable, hit=hit, nsurrogates = 100,train_cols = train_cols, cluster_list = cluster_list)\n",
    "\n",
    "            df_sti = pd.concat([df_real,df_sti])\n",
    "            df_iter = pd.concat([df_iter,df_temp])\n",
    "            \n",
    "            variable = str(variable)+'_'+str(hit)\n",
    "\n",
    "            # Aligmnent for Stimulus cue\n",
    "            real = df_sti.loc[(df_sti['trial_type'] ==variable)].to_numpy()\n",
    "            times = np.around(np.array(df_sti.columns)[:-1].astype(float),2)\n",
    "\n",
    "            df_new= df_iter.loc[(df_iter.epoch=='Stimulus_ON')].groupby('times')['score']\n",
    "            y_mean= df_new.mean().values\n",
    "            lower =  df_new.quantile(q=0.975, interpolation='linear') - y_mean\n",
    "            upper =  df_new.quantile(q=0.025, interpolation='linear') - y_mean\n",
    "            x=times\n",
    "            \n",
    "            # ephys.plot_results_decoder(fig, real[0][:len(y_mean)], times, df_new,  ax1, color = color, epoch = 'Delay_OFF', \n",
    "            #             y_range = [-0.05, 0.5], x_range = None, substract=True)\n",
    "            \n",
    "            df_cum, df_cum_shuffle = ephys.add_to_summary(real[0][:len(y_mean)], y_mean, times, filename, variable, epoch = 'Stimulus_ON', fold_no=fold_no, df_iter=df_iter, df_cum=df_cum, df_cum_shuffle=df_cum_shuffle, substract=True, delay=delay)\n",
    "            \n",
    "            sns.despine()\n",
    "            \n",
    "        fold_no+=1\n",
    "        plt.tight_layout()\n",
    "        plt.show()"
   ]
  },
  {
   "cell_type": "code",
   "execution_count": null,
   "metadata": {},
   "outputs": [],
   "source": [
    "df_test.groupby('trial').mean().reset_index()"
   ]
  },
  {
   "cell_type": "code",
   "execution_count": null,
   "metadata": {},
   "outputs": [],
   "source": [
    "# save_path = 'G:/My Drive/WORKING_MEMORY/PAPER/ANALYSIS_figures/'\n",
    "# os.chdir(save_path)\n",
    "# df_cum['trial_type'] = np.where(df_cum['delay'] == 3, 'WM_3', df_cum['trial_type'])\n",
    "# df_cum['trial_type'] = np.where(df_cum['delay'] == 10, 'WM_10', df_cum['trial_type'])\n",
    "# df_cum['trial_type'] = np.where(df_cum['delay'] == 1, 'WM_1', df_cum['trial_type'])\n",
    "\n",
    "file_name = '5C_split_delay.csv'\n",
    "df_cum.to_csv(save_data+file_name)"
   ]
  },
  {
   "cell_type": "code",
   "execution_count": null,
   "metadata": {},
   "outputs": [],
   "source": [
    "def plot_results_session_summary(plot, df, colors, variables_combined = ['WM_roll_1', 'RL_roll_1'], \n",
    "                                 y_range = [], x_range = None, epoch = 'Stimulus_ON', baseline=0.5):\n",
    "    \n",
    "    for color, variable, ax in zip(colors, variables_combined, np.repeat(plot, len(variables_combined))):\n",
    "        try:\n",
    "            df_loop = df.loc[(df['trial_type'] == variable)]\n",
    "        except:\n",
    "            df_loop = df\n",
    "\n",
    "        df_loop = df_loop.dropna(axis=1, how='all')\n",
    "\n",
    "        # Select only columns where the column name is a number or can be transformed to a number\n",
    "        numeric_columns = df_loop.columns[df_loop.columns.to_series().apply(pd.to_numeric, errors='coerce').notna()]\n",
    "\n",
    "        real = np.mean(df_loop.groupby('session')[numeric_columns].mean(), axis=0).to_numpy()\n",
    "        times = df_loop[numeric_columns].columns.astype(float)\n",
    "        \n",
    "        df_results = pd.DataFrame()\n",
    "        df_results['times'] = times\n",
    "        df_results['real'] = real\n",
    "        df_results = df_results.sort_values(by='times')\n",
    "\n",
    "        if x_range == None:\n",
    "            x_range = [min(times), max(times)]\n",
    "            \n",
    "        mean_surr = []\n",
    "        df_lower = pd.DataFrame()\n",
    "        df_upper = pd.DataFrame()\n",
    "\n",
    "        df_for_boots = df_loop.groupby('session')\n",
    "        for timepoint in df_results['times'].values:\n",
    "            mean_surr = []\n",
    "\n",
    "            # recover the values for that specific timepoint\n",
    "            try:\n",
    "                array = df_for_boots[timepoint].mean().to_numpy()\n",
    "            except:\n",
    "                array = df_for_boots[str(timepoint)].mean().to_numpy()\n",
    "\n",
    "            # iterate several times with resampling: chose X time among the same list of values\n",
    "            for iteration in range(1000):\n",
    "                x = np.random.choice(array, size=len(array), replace=True)\n",
    "                # recover the mean of that new distribution\n",
    "                mean_surr.append(np.mean(x))\n",
    "\n",
    "            df_lower.at[0, timepoint] = np.percentile(mean_surr, 2.5)\n",
    "            df_upper.at[0, timepoint] = np.percentile(mean_surr, 97.5)\n",
    "\n",
    "        lower =  df_lower.iloc[0].values\n",
    "        upper =  df_upper.iloc[0].values\n",
    "\n",
    "        ax.plot(df_results.times,df_results.real, color=color)\n",
    "        ax.fill_between(df_results.times, lower, upper, alpha=0.2, color=color)\n",
    "        ax.axhline(y=baseline,linestyle=':',color='black')\n",
    "        ax.set_ylim(y_range)\n",
    "        ax.set_xlim(x_range)\n",
    "\n",
    "        if epoch == 'Stimulus_ON':\n",
    "            ax.set_xlabel('Time to stimulus onset (s)')\n",
    "            ax.fill_betweenx(np.arange(-1,1.15,0.1), 0,0.4, color='grey', alpha=.4)\n",
    "        else:\n",
    "            ax.set_xlabel('Time to go cue (s)')\n",
    "            ax.fill_betweenx(np.arange(-1,1.15,0.1), 0,0.2, color='grey', alpha=.4)\n",
    "\n",
    "        sns.despine()"
   ]
  },
  {
   "cell_type": "code",
   "execution_count": null,
   "metadata": {},
   "outputs": [],
   "source": [
    "def plot_results_session_summary_substract(fig, plot, df: pd.DataFrame, df_shuffle: pd.DataFrame, color, variable= 'WM_roll_1', \n",
    "                                 y_range = [-0.05, 0.3], x_range = None, epoch = 'Stimulus_ON', baseline=0.5):\n",
    "    \n",
    "            # Select only columns where the column name is a number or can be transformed to a number\n",
    "        numeric_columns = df.columns[df.columns.to_series().apply(pd.to_numeric, errors='coerce').notna()]\n",
    "        \n",
    "        df_loop = (df.loc[(df['trial_type'] == variable)].groupby('session').mean()[numeric_columns]\n",
    "                    - df_shuffle.loc[(df['trial_type'] == variable)].groupby('session').mean()[numeric_columns])\n",
    "\n",
    "        real = np.array(np.mean(df_loop.groupby('session').mean()[numeric_columns])) \n",
    "        times = np.array(np.mean(df_loop[numeric_columns]).index).astype(float)\n",
    "\n",
    "        df_results = pd.DataFrame()\n",
    "        df_results['times'] = times\n",
    "        df_results['real'] = real\n",
    "        df_results = df_results.sort_values(by='times')\n",
    "\n",
    "        if x_range == None:\n",
    "            x_range = [min(times), max(times)]\n",
    "            \n",
    "        mean_surr = []\n",
    "        df_lower = pd.DataFrame()\n",
    "        df_upper = pd.DataFrame()\n",
    "\n",
    "        df_for_boots = df_loop.groupby('session').mean()\n",
    "        for timepoint in times:\n",
    "            mean_surr = []\n",
    "\n",
    "            # recover the values for that specific timepoint\n",
    "            try:\n",
    "                array = df_for_boots[timepoint].to_numpy()\n",
    "            except:\n",
    "                array = df_for_boots[str(timepoint)].to_numpy()\n",
    "\n",
    "            # iterate several times with resampling: chose X time among the same list of values\n",
    "            for iteration in range(1000):\n",
    "                x = np.random.choice(array, size=len(array), replace=True)\n",
    "                # recover the mean of that new distribution\n",
    "                mean_surr.append(np.mean(x))\n",
    "\n",
    "            df_lower.at[0, timepoint] = np.percentile(mean_surr, 2.5)\n",
    "            df_upper.at[0, timepoint] = np.percentile(mean_surr, 97.5)\n",
    "\n",
    "        lower =  df_lower.iloc[0].values\n",
    "        upper =  df_upper.iloc[0].values\n",
    "\n",
    "        plot.plot(df_results.times,df_results.real, color=color)\n",
    "        plot.fill_between(df_results.times, lower, upper, alpha=0.2, color=color)\n",
    "        plot.axhline(y=baseline,linestyle=':',color='black')\n",
    "        plot.set_ylim(y_range)\n",
    "        plot.set_xlim(x_range)\n",
    "\n",
    "        if epoch == 'Stimulus_ON':\n",
    "            plot.set_xlabel('Time to stimulus onset (s)')\n",
    "            plot.fill_betweenx(np.arange(-1,1.15,0.1), 0,0.4, color='grey', alpha=.4)\n",
    "        else:\n",
    "            plot.set_xlabel('Time to go cue (s)')\n",
    "            plot.fill_betweenx(np.arange(-1,1.15,0.1), 0,0.2, color='grey', alpha=.4)\n",
    "\n",
    "        sns.despine()\n"
   ]
  },
  {
   "cell_type": "code",
   "execution_count": null,
   "metadata": {},
   "outputs": [],
   "source": [
    "fig, ax = plt.subplots(1,1, figsize=(10, 4), sharey=True)\n",
    "baseline = 0\n",
    "plot_results_session_summary(ax, df_cum.loc[df_cum.delay == 3], colors, variables_combined = ['WM_roll_1', 'RL_roll_all'], \n",
    "                                y_range = [baseline-0.05, baseline+0.3], x_range = [-2,13], epoch = 'Stimulus_ON', baseline=baseline)\n",
    "# fig.savefig(save_figures+f'/review_decoder_across_delays_train_{train_delay}s.pdf', bbox_inches='tight')"
   ]
  },
  {
   "cell_type": "code",
   "execution_count": null,
   "metadata": {},
   "outputs": [],
   "source": [
    "df_cum = pd.DataFrame()\n",
    "df_cum_shuffle = pd.DataFrame()\n",
    "\n",
    "os.chdir(path_to_data)\n",
    "\n",
    "for filename in os.listdir():\n",
    "    if filename.endswith('.pdf'):\n",
    "        continue\n",
    "    \n",
    "    df = pd.read_csv(filename, sep=',', index_col=0)\n",
    "    print(f\"{filename} / Total session trials: {df.trial.nunique()} / Number of neurons: {df.cluster_id.nunique()}\")\n",
    "    \n",
    "    df = ephys.add_time_before_stimulus(df, 4)\n",
    "    df['delay'] = df['delay'].round(2)\n",
    "    \n",
    "    if 10 not in df['delay'].unique():\n",
    "        print('Skip session because no 10s delay')\n",
    "        continue\n",
    "    \n",
    "    # Variables for decoder training\n",
    "    decode, align = 'vector_answer', 'Delay_OFF'\n",
    "    ratio, delay_train, start, stop = 0.6, 'all', -0.5, 0\n",
    "    type_trial, hit, nsplits = 'WM_roll', 1, 3\n",
    "    \n",
    "    # Variables for testing\n",
    "    test_params = [\n",
    "        ('WM_roll', 3, 1, 0.6, 'darkgreen'),\n",
    "        ('WM_roll', 10, 1, 0.6, 'darkorange'),\n",
    "        ('RL_roll', 3, 'all', 0.4, 'crimson'),\n",
    "        ('RL_roll', 10, 'all', 0.4, 'pink')\n",
    "    ]\n",
    "    \n",
    "    cluster_list = df.cluster_id.unique()\n",
    "    skf = StratifiedKFold(n_splits=nsplits, shuffle=True)\n",
    "    \n",
    "    df_train = df[df[type_trial] >= ratio] if hit == 'all' else df[(df[type_trial] >= ratio) & (df.hit == hit)]\n",
    "    \n",
    "    if delay_train != 'all':\n",
    "        df_train = df_train[df_train.delay == delay_train]\n",
    "    else:\n",
    "        df_train = df_train[~df_train.delay.isin([0.2, 0.1])]\n",
    "    \n",
    "    df_final, y = interval_extraction_trial(df_train, variable=decode, align=align, start=start, stop=stop, cluster_list=cluster_list)\n",
    "    df_final.reset_index(inplace=True)\n",
    "    df_final.drop(columns='trial', inplace=True)\n",
    "    \n",
    "    if len(y) < nsplits:\n",
    "        print('Skip session because not enough trials')\n",
    "        continue\n",
    "    \n",
    "    fold_no = 1\n",
    "    for train_idx, test_idx in skf.split(df_final, y):\n",
    "        model, train_cols, score, sc_fit = train(df_train, decode, align, start, stop, cluster_list, test_idx, train_idx)\n",
    "        \n",
    "        for variable, delay, hit, ratio, color in test_params:\n",
    "            df_delay = df[df.delay.round(1) == delay]\n",
    "            if df_delay.empty:\n",
    "                continue\n",
    "            \n",
    "            delay = df_delay.delay.iloc[0].round(1)\n",
    "            endrange, r = {0.1: (3.5, 0.25), 0.2: (3.5, 0.25), 1: (4.5, 0.25), 3: (6.5, 0.25), 10: (14.5, 0.25)}.get(delay, (None, None))\n",
    "            if endrange is None:\n",
    "                continue\n",
    "            \n",
    "            df_test = df_delay[df_delay[variable] >= ratio] if hit == 'all' else df_delay[(df_delay[variable] >= ratio) & (df_delay.hit == hit)]\n",
    "            \n",
    "            if fold_no == 1:\n",
    "                print(f\"{delay} {variable} Threshold: {ratio} Hit: {hit} Nº of trials: {df_test.trial.nunique()}\")\n",
    "            \n",
    "            df_test = df_test[~df_test['trial'].isin(df_train.trial.unique()[train_idx])]\n",
    "            \n",
    "            if delay_train != delay:\n",
    "                select_trials = df_test.groupby('trial').mean().sample(n=len(test_idx), replace=True).index\n",
    "                df_test = df_test[df_test['trial'].isin(select_trials)]\n",
    "                \n",
    "            if df_test.trial.nunique() < 5:\n",
    "                print('Not enough trials with this condition')\n",
    "                continue\n",
    "            \n",
    "            df_real, df_temp = test(df_test, sc_fit, decode, 'Stimulus_ON', -2, endrange, r, model, delay, variable, hit, 100, train_cols, cluster_list)\n",
    "            \n",
    "            df_cum, df_cum_shuffle = ephys.add_to_summary(df_real.iloc[0, :len(df_temp)], df_temp.groupby('times')['score'].mean().values,\n",
    "                                                           np.around(df_temp.columns[:-1].astype(float), 2), filename, variable, 'Stimulus_ON',\n",
    "                                                           fold_no, df_temp, df_cum, df_cum_shuffle, True, delay)\n",
    "            \n",
    "            sns.despine()\n",
    "            \n",
    "        fold_no += 1\n",
    "        plt.tight_layout()\n",
    "        plt.show()\n"
   ]
  }
 ],
 "metadata": {
  "kernelspec": {
   "display_name": ".venv",
   "language": "python",
   "name": "python3"
  },
  "language_info": {
   "codemirror_mode": {
    "name": "ipython",
    "version": 3
   },
   "file_extension": ".py",
   "mimetype": "text/x-python",
   "name": "python",
   "nbconvert_exporter": "python",
   "pygments_lexer": "ipython3",
   "version": "3.11.9"
  }
 },
 "nbformat": 4,
 "nbformat_minor": 4
}

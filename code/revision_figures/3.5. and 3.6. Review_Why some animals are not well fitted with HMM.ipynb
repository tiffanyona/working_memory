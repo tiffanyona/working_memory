{
 "cells": [
  {
   "cell_type": "code",
   "execution_count": 5,
   "metadata": {},
   "outputs": [],
   "source": [
    "import statsmodels.api as sm\n",
    "from statsmodels.formula.api import ols\n",
    "from statsmodels.stats.anova import anova_lm\n",
    "from statsmodels.stats.anova import AnovaRM\n",
    "from statsmodels.graphics.factorplots import interaction_plot\n",
    "import matplotlib.pyplot as plt\n",
    "import matplotlib.gridspec as gridspec\n",
    "import matplotlib.patches as mpatches\n",
    "import os\n",
    "import pandas as pd\n",
    "import numpy as np\n",
    "import seaborn as sns\n",
    "from scipy import stats\n",
    "from scipy import special\n",
    "import json \n",
    "from sklearn.linear_model import LogisticRegression\n",
    "from scipy.optimize import curve_fit\n",
    "#Import all needed libraries\n",
    "from matplotlib.lines import Line2D\n",
    "from statsmodels.genmod.bayes_mixed_glm import BinomialBayesMixedGLM\n",
    "from matplotlib.backends.backend_pdf import PdfPages\n",
    "# from statannot import add_stat_annotation\n",
    "\n",
    "utilities = 'G:/My Drive/WORKING_MEMORY/PAPER/WM_manuscript_FIGURES/'\n",
    "os.chdir(utilities)\n",
    "# import functions as plots\n",
    "\n",
    "data_path = 'G:/My Drive/WORKING_MEMORY/PAPER/2ND_SUBMISSION_NAT_NEURO/figures_for_resubmission/'\n",
    "save_path = 'G:/My Drive/WORKING_MEMORY/PAPER/WM_manuscript_FIGURES/Fig. 2 Model/'\n",
    "path = 'G:/My Drive/WORKING_MEMORY/PAPER/ANALYSIS_figures/'\n",
    "os.chdir(path)"
   ]
  },
  {
   "cell_type": "code",
   "execution_count": 6,
   "metadata": {},
   "outputs": [],
   "source": [
    "def compute_window_centered(data, runningwindow,option):\n",
    "    \"\"\"\n",
    "    Computes a rolling average with a length of runningwindow samples.\n",
    "    \"\"\"\n",
    "    performance = []\n",
    "    start_on=False\n",
    "    for i in range(len(data)):\n",
    "        if data['trial'].iloc[i] <= int(runningwindow/2):\n",
    "            # Store the first index of that session for the first initial trials\n",
    "            if start_on == False:\n",
    "                start=i\n",
    "                start_on=True\n",
    "            performance.append(round(np.mean(data[option].iloc[start:i + int(runningwindow/2)]), 2))\n",
    "        elif i < (len(data)-runningwindow):\n",
    "            if data['trial'].iloc[i] > data['trial'].iloc[i+runningwindow]:\n",
    "                # Store the last values for the end of the session\n",
    "                if end == True:\n",
    "                    end_value = i+runningwindow-1\n",
    "                    end = False\n",
    "                performance.append(round(np.mean(data[option].iloc[i:end_value]), 2))\n",
    "                \n",
    "            else: # Rest of the session\n",
    "                start_on=False\n",
    "                end = True\n",
    "                performance.append(round(np.mean(data[option].iloc[i - int(runningwindow/2):i+int(runningwindow/2)]), 2))\n",
    "            \n",
    "        else:\n",
    "            performance.append(round(np.mean(data[option].iloc[i:len(data)]), 2))\n",
    "    return performance"
   ]
  },
  {
   "cell_type": "markdown",
   "metadata": {},
   "source": [
    "### Summary of the Notebook\n",
    "\n",
    "This notebook contains the analysis and visualization of working memory data. The following key steps and variables are present:\n",
    "\n",
    "1. **Imports and Setup**:\n",
    "    - Various libraries such as `statsmodels`, `matplotlib`, `pandas`, `numpy`, and `seaborn` are imported.\n",
    "    - Paths for data and saving results are defined.\n",
    "\n",
    "2. **Functions**:\n",
    "    - `compute_window_centered`: Computes a rolling average with a specified window size.\n",
    "\n",
    "3. **Data Loading and Preparation**:\n",
    "    - Data is loaded from CSV files into dataframes `df` and `df_model`.\n",
    "    - Additional columns such as `WM_roll` and `state` are computed and added to the dataframe.\n",
    "\n",
    "4. **Visualization**:\n",
    "    - Bar plots and scatter plots are created to visualize the data.\n",
    "    - Specific plots include:\n",
    "      - Bar plot of `LL/trial` by subject.\n",
    "      - Scatter plot and regression plot of `stim` vs. `substracted`.\n",
    "      - Bar plots of `hit` and `LL/trial` by model and `notHMM`.\n",
    "\n",
    "5. **Statistical Analysis**:\n",
    "    - Linear regression is performed using `statsmodels` to analyze the relationship between `stim` and `substracted`.\n",
    "\n",
    "6. **Additional Analysis**:\n",
    "    - Analysis of lapse accuracy and plotting of accuracy by delay.\n",
    "    - Violin and strip plots of `LL/trial` by model.\n",
    "\n",
    "### Key Variables\n",
    "\n",
    "- **Dataframes**:\n",
    "  - `df`: Main dataframe containing working memory data.\n",
    "  - `df_model`: Dataframe filtered for specific conditions.\n",
    "  - `full_fit`: Dataframe containing model fit results.\n",
    "\n",
    "- **Paths**:\n",
    "  - `data_path`: Path to the data files.\n",
    "  - `save_path`: Path to save the results.\n",
    "  - `path`: Path for analysis figures.\n",
    "  - `utilities`: Path for manuscript figures.\n",
    "\n",
    "- **Other Variables**:\n",
    "  - `threshold`: Threshold value for defining states.\n",
    "  - `groupings`: List of groupings used in the analysis.\n",
    "  - `fig`, `ax`: Matplotlib figure and axes objects for plotting.\n",
    "  - `file`, `file_name`: Filenames used for loading data."
   ]
  },
  {
   "cell_type": "markdown",
   "metadata": {},
   "source": [
    "#### **Recover all the data that we need**"
   ]
  },
  {
   "cell_type": "code",
   "execution_count": 8,
   "metadata": {},
   "outputs": [],
   "source": [
    "threshold = 0.5\n",
    "groupings=['subject','delays','state']\n",
    "\n",
    "file = 'all_data_HMM'\n",
    "df = pd.read_csv(save_path+ file+'.csv', index_col=0)\n",
    "df['WM_roll'] = compute_window_centered(df, 3,'WM')\n",
    "df['state'] = np.where(df.WM_roll > threshold, 1, 0)\n",
    "\n",
    "file = 'all_data_HMM_model'\n",
    "df_model = pd.read_csv(save_path+ file+'.csv', index_col=0)\n",
    "\n",
    "df_model = df_model.loc[df_model.animal_delay == 10]\n",
    "df = df.loc[df.animal_delay == 10]\n",
    "\n",
    "file_name = 'pertrialLL'\n",
    "full_fit = pd.read_csv(save_path+file_name+'.csv', index_col=0)"
   ]
  },
  {
   "cell_type": "code",
   "execution_count": null,
   "metadata": {},
   "outputs": [],
   "source": [
    "fig, ax = plt.subplots(1,1, figsize=(10,5))\n",
    "sns.barplot(x='subject', y='LL/trial', data=full_fit.loc[full_fit.model == '11'], errorbar=('ci', 68), hue='substracted', palette='viridis')\n",
    "plt.xticks(rotation=45)"
   ]
  },
  {
   "cell_type": "markdown",
   "metadata": {},
   "source": [
    "#### **Test with the inferred states of te model**"
   ]
  },
  {
   "cell_type": "code",
   "execution_count": 78,
   "metadata": {},
   "outputs": [],
   "source": [
    "new_df = df.loc[(df[\"WM\"]>0.6)&(df['delays']==1)].groupby('subject')[\"stim\"].count()/df.loc[(df['delays']==1)].groupby('subject')[\"stim\"].count()\n",
    "new_df = new_df.reset_index()\n",
    "\n",
    "merge_df = pd.merge(new_df, full_fit, on='subject')\n",
    "merge_df = merge_df.loc[merge_df[\"stim\"]>0.6]\n",
    "merge_df['notHMM'] =np.where(merge_df['substracted'] <0, True, False)"
   ]
  },
  {
   "cell_type": "code",
   "execution_count": null,
   "metadata": {},
   "outputs": [],
   "source": [
    "fig, ax = plt.subplots(2,2, figsize=(10,10))\n",
    "axes = ax[0][0]\n",
    "sns.scatterplot(data=merge_df.loc[merge_df.model == '11'], x='stim', y='substracted', palette='viridis', hue='notHMM', ax=axes)\n",
    "sns.regplot(data=merge_df.loc[merge_df.model =='11'], x='stim', y='substracted', scatter=False, color='black', ax=axes)\n",
    "\n",
    "axes = ax[0][1]\n",
    "sns.barplot(x ='stim', y='stim',  data=merge_df.loc[merge_df.model == '11'], hue='notHMM', palette='viridis', dodge=False, ax=axes)\n",
    "\n",
    "axes = ax[1][0]\n",
    "sns.barplot(x ='LL/trial', y='LL/trial',  data=merge_df.loc[merge_df.model == '11'], hue='notHMM', palette='viridis', dodge=False, ax=axes)\n",
    "axes.set_title('DW-B')\n",
    "\n",
    "axes = ax[1][1]\n",
    "sns.barplot(x ='LL/trial', y='LL/trial',  data=merge_df.loc[merge_df.model == 'all'], palette='viridis', dodge=False, ax=axes)\n",
    "axes.set_title('HMM')"
   ]
  },
  {
   "cell_type": "code",
   "execution_count": null,
   "metadata": {},
   "outputs": [],
   "source": [
    "import statsmodels.api as sm\n",
    "\n",
    "# Extract the relevant data\n",
    "data = merge_df.loc[merge_df.model == '11']\n",
    "X = data['stim']\n",
    "y = data['substracted']\n",
    "\n",
    "# Add a constant to the independent variable\n",
    "X = sm.add_constant(X)\n",
    "\n",
    "# Fit the regression model\n",
    "model = sm.OLS(y, X).fit()\n",
    "\n",
    "# Print the regression results\n",
    "print(model.summary())\n",
    "\n",
    "# Extract the p-value and R-squared value\n",
    "p_value = model.pvalues[1]  # p-value for the 'stim' coefficient\n",
    "r_squared = model.rsquared\n",
    "\n",
    "print(f'P-value: {p_value}')\n",
    "print(f'R-squared: {r_squared}')"
   ]
  },
  {
   "cell_type": "markdown",
   "metadata": {},
   "source": [
    "#### **Test using the lapse accuracy**"
   ]
  },
  {
   "cell_type": "code",
   "execution_count": 23,
   "metadata": {},
   "outputs": [],
   "source": [
    "new_df = df.loc[(df['delays']==0.1)].groupby('subject').hit.mean()\n",
    "new_df = new_df.reset_index()\n",
    "\n",
    "merge_df = pd.merge(new_df, full_fit, on='subject')\n",
    "merge_df['notHMM'] =np.where(merge_df['substracted'] <0, True, False)\n",
    "\n",
    "# merge_df = merge_df.loc[merge_df[\"hit\"]>0.6]"
   ]
  },
  {
   "cell_type": "code",
   "execution_count": null,
   "metadata": {},
   "outputs": [],
   "source": [
    "fig, ax = plt.subplots(1,1, figsize=(4,4))\n",
    "sns.barplot(x ='hit', y='hit',  data=merge_df.loc[merge_df.model == '11'], hue='notHMM', palette='viridis', dodge=False, ax=ax)\n",
    "plt.xlabel('Mice')\n",
    "plt.ylabel('Accuracy at Delay 0s')\n",
    "plt.xticks([])\n",
    "# plt.legend(bbox_to_anchor=(1,1))\n",
    "plt.legend(bbox_to_anchor=(1.4,1), title='DW-B better', loc='upper right')\n",
    "sns.despine()\n",
    "plt.savefig(save_path+'/3.6. mice_alternative_model_better.png', dpi=300, bbox_inches='tight')"
   ]
  },
  {
   "cell_type": "code",
   "execution_count": null,
   "metadata": {},
   "outputs": [],
   "source": [
    "fig, ax = plt.subplots(2,2, figsize=(10,10))\n",
    "axes = ax[0][0]\n",
    "sns.scatterplot(data=merge_df.loc[merge_df.model == '11'], x='hit', y='substracted', palette='viridis', hue='notHMM', ax=axes)\n",
    "sns.regplot(data=merge_df.loc[merge_df.model =='11'], x='hit', y='substracted', scatter=False, color='black', ax=axes)\n",
    "\n",
    "axes = ax[0][1]\n",
    "sns.barplot(x ='hit', y='hit',  data=merge_df.loc[merge_df.model == '11'], hue='notHMM', palette='viridis', dodge=False, ax=axes)\n",
    "\n",
    "axes = ax[1][0]\n",
    "sns.barplot(x ='LL/trial', y='LL/trial',  data=merge_df.loc[merge_df.model == '11'], hue='notHMM', palette='viridis', dodge=False, ax=axes)\n",
    "axes.set_title('DW-B')\n",
    "\n",
    "axes = ax[1][1]\n",
    "sns.barplot(x ='LL/trial', y='LL/trial',  data=merge_df.loc[merge_df.model == 'all'], palette='viridis', dodge=False, ax=axes)\n",
    "axes.set_title('HMM')"
   ]
  },
  {
   "cell_type": "markdown",
   "metadata": {},
   "source": [
    "### **Where does the outlier in accuracy land?**"
   ]
  },
  {
   "cell_type": "code",
   "execution_count": null,
   "metadata": {},
   "outputs": [],
   "source": [
    "# df.loc[df.subject == 'E13_10'].groupby('delays').hit.mean()\n",
    "\n",
    "sns.lineplot(x='delays', y='hit', data=df, marker='o', hue='subject', legend=False, errorbar=None, palette='Greys', alpha=0.3)\n",
    "sns.lineplot(x='delays', y='hit', data=df.loc[df.subject == 'E04_10'], marker='o', color='red')\n",
    "plt.ylim(0.6,1)"
   ]
  },
  {
   "cell_type": "markdown",
   "metadata": {},
   "source": [
    "### **Plot using the LL/trial**"
   ]
  },
  {
   "cell_type": "code",
   "execution_count": null,
   "metadata": {},
   "outputs": [],
   "source": [
    "full_fit"
   ]
  },
  {
   "cell_type": "code",
   "execution_count": null,
   "metadata": {},
   "outputs": [],
   "source": [
    "fig, panel = plt.subplots(1,1, figsize=(8,4))\n",
    "color_list = ['darkgrey', 'midnightblue','lightgrey','steelblue', 'black']\n",
    "xA = np.random.normal(0, 0.05, len(full_fit))\n",
    "sns.stripplot(x='model',y='LL/trial', data=full_fit, jitter=0.3,size=2, order=[\"all\",'12','9','10','11'], hue='model', palette = color_list, edgecolor='white', linewidth=0.1, s=5,ax=panel)\n",
    "sns.violinplot(x='model',y='LL/trial', data=full_fit, saturation=0.7, order=[\"all\",'12','9','10','11'], hue='model', palette =  color_list,linewidth=0, width = 0.5, ax=panel)\n",
    "sns.violinplot(x='model',y='LL/trial', data=full_fit, order=[\"all\",'12','9','10','11'], hue='model', palette =  color_list,linewidth=1.5, width = 0.5, ax=panel )\n",
    "\n",
    "panel.hlines(y=np.mean(full_fit.loc[full_fit.model =='all']['LL/trial'].mean()), xmin=-0.5, xmax=4.5, linestyle=':', color='black')\n",
    "panel.set_xlabel('')\n",
    "panel.set_ylabel('LL (bits/trial)')\n",
    "# panel.set_ylim(-200,700)\n",
    "labels = ['HMM', 'DW','DW-L','DW-M','DW-B']\n",
    "panel.set_xticklabels(labels)\n",
    "sns.despine()\n",
    "plt.savefig(save_path+'/3.5. LL_per_trial.svg', dpi=300, bbox_inches='tight')"
   ]
  }
 ],
 "metadata": {
  "kernelspec": {
   "display_name": ".venv",
   "language": "python",
   "name": "python3"
  },
  "language_info": {
   "codemirror_mode": {
    "name": "ipython",
    "version": 3
   },
   "file_extension": ".py",
   "mimetype": "text/x-python",
   "name": "python",
   "nbconvert_exporter": "python",
   "pygments_lexer": "ipython3",
   "version": "3.11.5"
  }
 },
 "nbformat": 4,
 "nbformat_minor": 2
}

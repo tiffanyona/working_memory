{
 "cells": [
  {
   "cell_type": "code",
   "execution_count": 2,
   "metadata": {},
   "outputs": [],
   "source": [
    "# IPython magig  tools\n",
    "%load_ext autoreload\n",
    "%autoreload 2\n",
    "\n",
    "from sklearn.model_selection import StratifiedKFold, KFold\n",
    "import matplotlib.pyplot as plt\n",
    "from sklearn.utils import shuffle\n",
    "import numpy as np\n",
    "from sklearn.linear_model import LogisticRegression\n",
    "from sklearn.metrics import classification_report, confusion_matrix, f1_score\n",
    "from sklearn.preprocessing import StandardScaler, MinMaxScaler, RobustScaler\n",
    "\n",
    "import os \n",
    "import pandas as pd\n",
    "import seaborn as sns\n",
    "sns.set_context('talk')\n",
    "import matplotlib.pyplot as plt\n",
    "\n",
    "import sys\n",
    "sys.path.append(\"G:/My Drive/WORKING_MEMORY/EXPERIMENTS/ELECTROPHYSIOLOGY/ANALYSIS/src/functions/\")\n",
    "import ephys_functions as ephys\n",
    "import model_functions as mod\n",
    "import behavioral_functions as beh\n",
    "\n",
    "import warnings\n",
    "warnings.simplefilter(action='ignore', category=FutureWarning)\n",
    "warnings.simplefilter(action='ignore', category=RuntimeWarning)\n",
    "warnings. filterwarnings('ignore', category=UserWarning)\n",
    "warnings.simplefilter(action=\"ignore\", category=pd.errors.PerformanceWarning)\n",
    "pd.options.mode.chained_assignment = None  # default='warn'"
   ]
  },
  {
   "cell_type": "code",
   "execution_count": 3,
   "metadata": {},
   "outputs": [],
   "source": [
    "def repeat_reward_side(row):\n",
    "    '''\n",
    "\n",
    "    '''\n",
    "    # Compare the current response with the previous one. If that matches, return a 1 meaning it repeated. \n",
    "    if row['trials'] != 0:\n",
    "        # Compare the current response with the previous one. .  \n",
    "        if row['reward_side'] == row['previous_reward_side']:\n",
    "            # if it matched and the answer was 1, it means that it repeated a right response\n",
    "            if row['reward_side'] == 1:\n",
    "                return 2\n",
    "            # if it matched and the answer was 0, it means that it repeated a left response\n",
    "            else:\n",
    "                return 1\n",
    "        # Alternations\n",
    "        else:\n",
    "            return 0\n",
    "    else:\n",
    "        return np.nan"
   ]
  },
  {
   "cell_type": "code",
   "execution_count": null,
   "metadata": {},
   "outputs": [],
   "source": [
    "path = 'G:/My drive/WORKING_MEMORY/PAPER/WM_manuscript_FIGURES/Data/'\n",
    "file_name = 'global_behavior_10_paper'\n",
    "df = pd.read_csv(path+file_name+'.csv', index_col=0)"
   ]
  },
  {
   "cell_type": "code",
   "execution_count": null,
   "metadata": {},
   "outputs": [],
   "source": [
    "from scipy.stats import linregress\n",
    "\n",
    "fig, axes = plt.subplots(1,2,  figsize=(10,5))\n",
    "groupings=['subject','session']\n",
    "df_results = pd.DataFrame()\n",
    "df_results['repeat_choice'] = 0.5* df.loc[(df['repeat_choice_side']==1)].groupby(groupings)['valids'].count()/df.loc[(df.vector_answer == 0)].groupby(groupings)['valids'].count() + 0.5*df.loc[(df['repeat_choice_side']==2)].groupby(groupings)['valids'].count()/df.loc[(df.vector_answer == 1)].groupby(groupings)['valids'].count()\n",
    "df_results['accuracy'] = df.groupby(groupings)['hit'].mean()\n",
    "df_results['accuracy_0'] = df.loc[df.delay_times == 0.01].groupby(groupings)['hit'].mean()\n",
    "df_results.reset_index(inplace=True)\n",
    "palette = sns.color_palette(['black'], len(df.subject.unique()))\n",
    "\n",
    "ax=axes[0]\n",
    "sns.scatterplot(x='accuracy',y='repeat_choice',hue='subject',data=df_results, legend=False, palette = 'Greys', ax=ax)\n",
    "slope, intercept, r_value, p_value, std_err = linregress(df_results['repeat_choice'], df_results['accuracy'])\n",
    "# Plot the regression line\n",
    "ax.plot(df_results['accuracy'], intercept + slope * df_results['accuracy'], color='red', label=f'R={r_value:.2f}, p={p_value:.2e}')\n",
    "ax.legend()\n",
    "\n",
    "ax.set_ylabel('Accuracy')\n",
    "ax.set_xlabel('Repeat choice')\n",
    "\n",
    "ax=axes[1]\n",
    "sns.scatterplot(x='accuracy',y='accuracy_0',hue='subject',data=df_results, legend=False, palette = 'Greys', ax=ax)\n",
    "slope, intercept, r_value, p_value, std_err = linregress(df_results['accuracy'], df_results['accuracy_0'])\n",
    "ax.plot(df_results['accuracy'], intercept + slope * df_results['accuracy'], color='red', label=f'R={r_value:.2f}, p={p_value:.2e}')\n",
    "ax.set_xlabel('Lapse rate')\n",
    "ax.set_ylabel('Accuracy')\n",
    "plt.legend()\n",
    "sns.despine()\n",
    "plt.show()\n"
   ]
  }
 ],
 "metadata": {
  "kernelspec": {
   "display_name": ".venv",
   "language": "python",
   "name": "python3"
  },
  "language_info": {
   "codemirror_mode": {
    "name": "ipython",
    "version": 3
   },
   "file_extension": ".py",
   "mimetype": "text/x-python",
   "name": "python",
   "nbconvert_exporter": "python",
   "pygments_lexer": "ipython3",
   "version": "3.11.9"
  }
 },
 "nbformat": 4,
 "nbformat_minor": 2
}
